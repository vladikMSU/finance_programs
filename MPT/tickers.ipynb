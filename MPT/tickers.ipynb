{
 "cells": [
  {
   "cell_type": "code",
   "execution_count": 51,
   "id": "afb5793c-fd6b-4c93-aa7a-d6fe0bc36caf",
   "metadata": {},
   "outputs": [],
   "source": [
    "import pandas as pd\n",
    "import yfinance as yf\n",
    "import os"
   ]
  },
  {
   "cell_type": "code",
   "execution_count": 52,
   "id": "6248627d-c9a8-4427-9058-d2721a6da66a",
   "metadata": {},
   "outputs": [],
   "source": [
    "# Список тикеров\n",
    "tickers = {\n",
    "    \"crypto\": ['BTC-USD', 'ETH-USD', 'SOL-USD'],\n",
    "    \"commodities\": ['GC=F', 'CL=F', 'BZ=F'],\n",
    "    \"sp500_index\": ['SPY', 'VT'],\n",
    "    \"us_bonds\": ['BND', 'TLT', 'IEF', 'AGG']\n",
    "}"
   ]
  },
  {
   "cell_type": "code",
   "execution_count": 53,
   "id": "ca623236-d453-4570-97c6-b307b260f56a",
   "metadata": {},
   "outputs": [],
   "source": [
    "base_dir = \"data\""
   ]
  },
  {
   "cell_type": "code",
   "execution_count": 54,
   "id": "37febe68-12b3-4d0e-b14d-5bb20314904b",
   "metadata": {},
   "outputs": [
    {
     "name": "stderr",
     "output_type": "stream",
     "text": [
      "C:\\Users\\pluso\\AppData\\Local\\Temp\\ipykernel_25108\\3106022739.py:8: FutureWarning: YF.download() has changed argument auto_adjust default to True\n",
      "  df = yf.download(symbol, start=\"1995-01-01\", interval=\"1mo\")\n",
      "[*********************100%***********************]  1 of 1 completed\n",
      "C:\\Users\\pluso\\AppData\\Local\\Temp\\ipykernel_25108\\3106022739.py:8: FutureWarning: YF.download() has changed argument auto_adjust default to True\n",
      "  df = yf.download(symbol, start=\"1995-01-01\", interval=\"1mo\")\n"
     ]
    },
    {
     "name": "stdout",
     "output_type": "stream",
     "text": [
      "✅ Saved BTC-USD to data\\crypto\\BTC-USD.csv\n"
     ]
    },
    {
     "name": "stderr",
     "output_type": "stream",
     "text": [
      "[*********************100%***********************]  1 of 1 completed\n",
      "C:\\Users\\pluso\\AppData\\Local\\Temp\\ipykernel_25108\\3106022739.py:8: FutureWarning: YF.download() has changed argument auto_adjust default to True\n",
      "  df = yf.download(symbol, start=\"1995-01-01\", interval=\"1mo\")\n"
     ]
    },
    {
     "name": "stdout",
     "output_type": "stream",
     "text": [
      "✅ Saved ETH-USD to data\\crypto\\ETH-USD.csv\n"
     ]
    },
    {
     "name": "stderr",
     "output_type": "stream",
     "text": [
      "[*********************100%***********************]  1 of 1 completed\n",
      "C:\\Users\\pluso\\AppData\\Local\\Temp\\ipykernel_25108\\3106022739.py:8: FutureWarning: YF.download() has changed argument auto_adjust default to True\n",
      "  df = yf.download(symbol, start=\"1995-01-01\", interval=\"1mo\")\n"
     ]
    },
    {
     "name": "stdout",
     "output_type": "stream",
     "text": [
      "✅ Saved SOL-USD to data\\crypto\\SOL-USD.csv\n"
     ]
    },
    {
     "name": "stderr",
     "output_type": "stream",
     "text": [
      "[*********************100%***********************]  1 of 1 completed\n",
      "C:\\Users\\pluso\\AppData\\Local\\Temp\\ipykernel_25108\\3106022739.py:8: FutureWarning: YF.download() has changed argument auto_adjust default to True\n",
      "  df = yf.download(symbol, start=\"1995-01-01\", interval=\"1mo\")\n"
     ]
    },
    {
     "name": "stdout",
     "output_type": "stream",
     "text": [
      "✅ Saved GC=F to data\\commodities\\GC-F.csv\n"
     ]
    },
    {
     "name": "stderr",
     "output_type": "stream",
     "text": [
      "[*********************100%***********************]  1 of 1 completed\n",
      "C:\\Users\\pluso\\AppData\\Local\\Temp\\ipykernel_25108\\3106022739.py:8: FutureWarning: YF.download() has changed argument auto_adjust default to True\n",
      "  df = yf.download(symbol, start=\"1995-01-01\", interval=\"1mo\")\n"
     ]
    },
    {
     "name": "stdout",
     "output_type": "stream",
     "text": [
      "✅ Saved CL=F to data\\commodities\\CL-F.csv\n"
     ]
    },
    {
     "name": "stderr",
     "output_type": "stream",
     "text": [
      "[*********************100%***********************]  1 of 1 completed\n",
      "C:\\Users\\pluso\\AppData\\Local\\Temp\\ipykernel_25108\\3106022739.py:8: FutureWarning: YF.download() has changed argument auto_adjust default to True\n",
      "  df = yf.download(symbol, start=\"1995-01-01\", interval=\"1mo\")\n"
     ]
    },
    {
     "name": "stdout",
     "output_type": "stream",
     "text": [
      "✅ Saved BZ=F to data\\commodities\\BZ-F.csv\n"
     ]
    },
    {
     "name": "stderr",
     "output_type": "stream",
     "text": [
      "[*********************100%***********************]  1 of 1 completed\n",
      "C:\\Users\\pluso\\AppData\\Local\\Temp\\ipykernel_25108\\3106022739.py:8: FutureWarning: YF.download() has changed argument auto_adjust default to True\n",
      "  df = yf.download(symbol, start=\"1995-01-01\", interval=\"1mo\")\n"
     ]
    },
    {
     "name": "stdout",
     "output_type": "stream",
     "text": [
      "✅ Saved SPY to data\\sp500_index\\SPY.csv\n"
     ]
    },
    {
     "name": "stderr",
     "output_type": "stream",
     "text": [
      "[*********************100%***********************]  1 of 1 completed\n",
      "C:\\Users\\pluso\\AppData\\Local\\Temp\\ipykernel_25108\\3106022739.py:8: FutureWarning: YF.download() has changed argument auto_adjust default to True\n",
      "  df = yf.download(symbol, start=\"1995-01-01\", interval=\"1mo\")\n"
     ]
    },
    {
     "name": "stdout",
     "output_type": "stream",
     "text": [
      "✅ Saved VT to data\\sp500_index\\VT.csv\n"
     ]
    },
    {
     "name": "stderr",
     "output_type": "stream",
     "text": [
      "[*********************100%***********************]  1 of 1 completed\n",
      "C:\\Users\\pluso\\AppData\\Local\\Temp\\ipykernel_25108\\3106022739.py:8: FutureWarning: YF.download() has changed argument auto_adjust default to True\n",
      "  df = yf.download(symbol, start=\"1995-01-01\", interval=\"1mo\")\n"
     ]
    },
    {
     "name": "stdout",
     "output_type": "stream",
     "text": [
      "✅ Saved BND to data\\us_bonds\\BND.csv\n"
     ]
    },
    {
     "name": "stderr",
     "output_type": "stream",
     "text": [
      "[*********************100%***********************]  1 of 1 completed\n",
      "C:\\Users\\pluso\\AppData\\Local\\Temp\\ipykernel_25108\\3106022739.py:8: FutureWarning: YF.download() has changed argument auto_adjust default to True\n",
      "  df = yf.download(symbol, start=\"1995-01-01\", interval=\"1mo\")\n"
     ]
    },
    {
     "name": "stdout",
     "output_type": "stream",
     "text": [
      "✅ Saved TLT to data\\us_bonds\\TLT.csv\n"
     ]
    },
    {
     "name": "stderr",
     "output_type": "stream",
     "text": [
      "[*********************100%***********************]  1 of 1 completed\n",
      "C:\\Users\\pluso\\AppData\\Local\\Temp\\ipykernel_25108\\3106022739.py:8: FutureWarning: YF.download() has changed argument auto_adjust default to True\n",
      "  df = yf.download(symbol, start=\"1995-01-01\", interval=\"1mo\")\n"
     ]
    },
    {
     "name": "stdout",
     "output_type": "stream",
     "text": [
      "✅ Saved IEF to data\\us_bonds\\IEF.csv\n"
     ]
    },
    {
     "name": "stderr",
     "output_type": "stream",
     "text": [
      "[*********************100%***********************]  1 of 1 completed"
     ]
    },
    {
     "name": "stdout",
     "output_type": "stream",
     "text": [
      "✅ Saved AGG to data\\us_bonds\\AGG.csv\n"
     ]
    },
    {
     "name": "stderr",
     "output_type": "stream",
     "text": [
      "\n"
     ]
    }
   ],
   "source": [
    "# загрузка данных\n",
    "for category, symbols in tickers.items():\n",
    "    category_path = os.path.join(base_dir, category)\n",
    "    os.makedirs(category_path, exist_ok=True)\n",
    "\n",
    "    for symbol in symbols:\n",
    "        try:\n",
    "            df = yf.download(symbol, start=\"1995-01-01\", interval=\"1mo\")\n",
    "            df = df.dropna()\n",
    "            df.columns = df.columns.droplevel(1)\n",
    "\n",
    "            filename = symbol.replace(\"=\", \"-\").replace(\"/\", \"-\") + \".csv\"\n",
    "            filepath = os.path.join(category_path, filename)\n",
    "            df.to_csv(filepath)\n",
    "            print(f\"✅ Saved {symbol} to {filepath}\")\n",
    "        except Exception as e:\n",
    "            print(f\"❌ Error with {symbol}: {e}\")"
   ]
  },
  {
   "cell_type": "code",
   "execution_count": 55,
   "id": "734f7f0c-0a95-48d6-b836-17802330ddbb",
   "metadata": {},
   "outputs": [
    {
     "data": {
      "text/html": [
       "<div>\n",
       "<style scoped>\n",
       "    .dataframe tbody tr th:only-of-type {\n",
       "        vertical-align: middle;\n",
       "    }\n",
       "\n",
       "    .dataframe tbody tr th {\n",
       "        vertical-align: top;\n",
       "    }\n",
       "\n",
       "    .dataframe thead th {\n",
       "        text-align: right;\n",
       "    }\n",
       "</style>\n",
       "<table border=\"1\" class=\"dataframe\">\n",
       "  <thead>\n",
       "    <tr style=\"text-align: right;\">\n",
       "      <th>Price</th>\n",
       "      <th>Close</th>\n",
       "      <th>High</th>\n",
       "      <th>Low</th>\n",
       "      <th>Open</th>\n",
       "      <th>Volume</th>\n",
       "    </tr>\n",
       "    <tr>\n",
       "      <th>Date</th>\n",
       "      <th></th>\n",
       "      <th></th>\n",
       "      <th></th>\n",
       "      <th></th>\n",
       "      <th></th>\n",
       "    </tr>\n",
       "  </thead>\n",
       "  <tbody>\n",
       "    <tr>\n",
       "      <th>2003-09-01</th>\n",
       "      <td>51.508633</td>\n",
       "      <td>51.528695</td>\n",
       "      <td>51.207707</td>\n",
       "      <td>51.303001</td>\n",
       "      <td>76200</td>\n",
       "    </tr>\n",
       "    <tr>\n",
       "      <th>2003-10-01</th>\n",
       "      <td>51.027134</td>\n",
       "      <td>51.533695</td>\n",
       "      <td>50.430299</td>\n",
       "      <td>51.478525</td>\n",
       "      <td>860700</td>\n",
       "    </tr>\n",
       "    <tr>\n",
       "      <th>2003-11-01</th>\n",
       "      <td>51.017075</td>\n",
       "      <td>51.378187</td>\n",
       "      <td>50.430269</td>\n",
       "      <td>50.821473</td>\n",
       "      <td>672600</td>\n",
       "    </tr>\n",
       "    <tr>\n",
       "      <th>2003-12-01</th>\n",
       "      <td>51.414143</td>\n",
       "      <td>51.741301</td>\n",
       "      <td>50.633995</td>\n",
       "      <td>50.910823</td>\n",
       "      <td>1173800</td>\n",
       "    </tr>\n",
       "    <tr>\n",
       "      <th>2004-01-01</th>\n",
       "      <td>51.926868</td>\n",
       "      <td>52.529140</td>\n",
       "      <td>51.268928</td>\n",
       "      <td>51.699121</td>\n",
       "      <td>1058400</td>\n",
       "    </tr>\n",
       "    <tr>\n",
       "      <th>...</th>\n",
       "      <td>...</td>\n",
       "      <td>...</td>\n",
       "      <td>...</td>\n",
       "      <td>...</td>\n",
       "      <td>...</td>\n",
       "    </tr>\n",
       "    <tr>\n",
       "      <th>2025-03-01</th>\n",
       "      <td>97.337761</td>\n",
       "      <td>97.810087</td>\n",
       "      <td>96.442320</td>\n",
       "      <td>97.081925</td>\n",
       "      <td>173294600</td>\n",
       "    </tr>\n",
       "    <tr>\n",
       "      <th>2025-04-01</th>\n",
       "      <td>97.735512</td>\n",
       "      <td>99.245671</td>\n",
       "      <td>94.902746</td>\n",
       "      <td>97.528237</td>\n",
       "      <td>211039700</td>\n",
       "    </tr>\n",
       "    <tr>\n",
       "      <th>2025-05-01</th>\n",
       "      <td>97.146622</td>\n",
       "      <td>97.909143</td>\n",
       "      <td>95.720621</td>\n",
       "      <td>97.869531</td>\n",
       "      <td>174232800</td>\n",
       "    </tr>\n",
       "    <tr>\n",
       "      <th>2025-06-01</th>\n",
       "      <td>98.555428</td>\n",
       "      <td>98.585239</td>\n",
       "      <td>96.598234</td>\n",
       "      <td>96.598234</td>\n",
       "      <td>187026100</td>\n",
       "    </tr>\n",
       "    <tr>\n",
       "      <th>2025-07-01</th>\n",
       "      <td>98.050003</td>\n",
       "      <td>98.949997</td>\n",
       "      <td>97.930000</td>\n",
       "      <td>98.870003</td>\n",
       "      <td>76093108</td>\n",
       "    </tr>\n",
       "  </tbody>\n",
       "</table>\n",
       "<p>263 rows × 5 columns</p>\n",
       "</div>"
      ],
      "text/plain": [
       "Price           Close       High        Low       Open     Volume\n",
       "Date                                                             \n",
       "2003-09-01  51.508633  51.528695  51.207707  51.303001      76200\n",
       "2003-10-01  51.027134  51.533695  50.430299  51.478525     860700\n",
       "2003-11-01  51.017075  51.378187  50.430269  50.821473     672600\n",
       "2003-12-01  51.414143  51.741301  50.633995  50.910823    1173800\n",
       "2004-01-01  51.926868  52.529140  51.268928  51.699121    1058400\n",
       "...               ...        ...        ...        ...        ...\n",
       "2025-03-01  97.337761  97.810087  96.442320  97.081925  173294600\n",
       "2025-04-01  97.735512  99.245671  94.902746  97.528237  211039700\n",
       "2025-05-01  97.146622  97.909143  95.720621  97.869531  174232800\n",
       "2025-06-01  98.555428  98.585239  96.598234  96.598234  187026100\n",
       "2025-07-01  98.050003  98.949997  97.930000  98.870003   76093108\n",
       "\n",
       "[263 rows x 5 columns]"
      ]
     },
     "execution_count": 55,
     "metadata": {},
     "output_type": "execute_result"
    }
   ],
   "source": [
    "df"
   ]
  },
  {
   "cell_type": "code",
   "execution_count": null,
   "id": "d4dd0ca5-f482-4343-8a84-cfc1c95e8a19",
   "metadata": {},
   "outputs": [],
   "source": []
  }
 ],
 "metadata": {
  "kernelspec": {
   "display_name": "Python 3 (ipykernel)",
   "language": "python",
   "name": "python3"
  },
  "language_info": {
   "codemirror_mode": {
    "name": "ipython",
    "version": 3
   },
   "file_extension": ".py",
   "mimetype": "text/x-python",
   "name": "python",
   "nbconvert_exporter": "python",
   "pygments_lexer": "ipython3",
   "version": "3.12.10"
  }
 },
 "nbformat": 4,
 "nbformat_minor": 5
}
