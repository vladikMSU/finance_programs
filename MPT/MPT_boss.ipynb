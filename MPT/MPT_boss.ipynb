{
 "cells": [
  {
   "cell_type": "code",
   "execution_count": 2,
   "id": "3a0a6871-df96-47a6-9cef-4f6922a503fc",
   "metadata": {},
   "outputs": [],
   "source": [
    "import os\n",
    "import pandas as pd"
   ]
  },
  {
   "cell_type": "code",
   "execution_count": 2,
   "id": "7363161c-ba32-45f0-be94-56a82d1ec0f3",
   "metadata": {},
   "outputs": [],
   "source": [
    "# Указываем путь к папке с данными\n",
    "base_dir = \"data\""
   ]
  },
  {
   "cell_type": "code",
   "execution_count": 3,
   "id": "672f3261-dafe-4066-8317-240f8c565f61",
   "metadata": {},
   "outputs": [],
   "source": [
    "# Категории активов\n",
    "asset_classes = {\n",
    "    \"crypto\": [],\n",
    "    \"commodities\": [],\n",
    "    \"sp500_index\": [],\n",
    "    # \"sp500_stocks\": [],\n",
    "    \"us_bonds\": [],\n",
    "    \"moex\": [],\n",
    "    \"moex_index\": [],\n",
    "    \"ru_bonds\": [],\n",
    "}"
   ]
  },
  {
   "cell_type": "code",
   "execution_count": 4,
   "id": "ffe12afa-041a-4c51-860a-503dff43e17e",
   "metadata": {},
   "outputs": [],
   "source": [
    "# Загружаем все CSV по каждой категории\n",
    "for category in asset_classes:\n",
    "    folder_path = os.path.join(base_dir, category)\n",
    "    for file in os.listdir(folder_path):\n",
    "        if file.endswith(\".csv\"):\n",
    "            ticker = file.replace(\".csv\", \"\")\n",
    "            df = pd.read_csv(os.path.join(folder_path, file), index_col=0, parse_dates=True)\n",
    "            asset_classes[category].append((ticker, df))"
   ]
  },
  {
   "cell_type": "code",
   "execution_count": 5,
   "id": "75fae104-6a52-4d53-bf94-50bc517390ad",
   "metadata": {},
   "outputs": [
    {
     "data": {
      "text/plain": [
       "({'crypto': ['BTC-USD', 'ETH-USD', 'SOL-USD'],\n",
       "  'commodities': ['BZ-F', 'CL-F', 'GC-F'],\n",
       "  'sp500_index': ['SPY', 'VT'],\n",
       "  'us_bonds': ['AGG', 'BND', 'IEF'],\n",
       "  'moex': ['AFKS', 'AFLT', 'ALRS'],\n",
       "  'moex_index': ['AKME', 'SBMX'],\n",
       "  'ru_bonds': ['AKFB', 'AKMB', 'OBLG']},\n",
       " {'crypto': 3,\n",
       "  'commodities': 3,\n",
       "  'sp500_index': 2,\n",
       "  'us_bonds': 4,\n",
       "  'moex': 45,\n",
       "  'moex_index': 2,\n",
       "  'ru_bonds': 7})"
      ]
     },
     "execution_count": 5,
     "metadata": {},
     "output_type": "execute_result"
    }
   ],
   "source": [
    "# Проверим количество и примеры загруженных данных по каждому классу\n",
    "summary = {k: [t[0] for t in v[:3]] for k, v in asset_classes.items()}\n",
    "summary_counts = {k: len(v) for k, v in asset_classes.items()}\n",
    "\n",
    "summary, summary_counts"
   ]
  },
  {
   "cell_type": "code",
   "execution_count": null,
   "id": "1f341a3a-a02d-4601-9315-381adea39d3b",
   "metadata": {},
   "outputs": [],
   "source": []
  }
 ],
 "metadata": {
  "kernelspec": {
   "display_name": "Python 3",
   "language": "python",
   "name": "python3"
  },
  "language_info": {
   "codemirror_mode": {
    "name": "ipython",
    "version": 3
   },
   "file_extension": ".py",
   "mimetype": "text/x-python",
   "name": "python",
   "nbconvert_exporter": "python",
   "pygments_lexer": "ipython3",
   "version": "3.12.10"
  }
 },
 "nbformat": 4,
 "nbformat_minor": 5
}
