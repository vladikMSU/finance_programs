{
 "cells": [
  {
   "cell_type": "markdown",
   "id": "290156f3",
   "metadata": {},
   "source": [
    "# Quarterly RUB Pipeline (Helper-Driven)\n",
    "\n",
    "Shared helpers now discover raw CSVs from ticker lists, align prices directly to quarters, and package a publishable RUB return panel with diagnostics-ready structures."
   ]
  },
  {
   "cell_type": "markdown",
   "id": "bd6109d2",
   "metadata": {},
   "source": [
    "## Setup"
   ]
  },
  {
   "cell_type": "code",
   "execution_count": null,
   "id": "e94468dd",
   "metadata": {
    "execution": {
     "iopub.execute_input": "2025-10-16T23:11:31.798894Z",
     "iopub.status.busy": "2025-10-16T23:11:31.798894Z",
     "iopub.status.idle": "2025-10-16T23:11:33.116527Z",
     "shell.execute_reply": "2025-10-16T23:11:33.116527Z"
    }
   },
   "outputs": [
    {
     "name": "stdout",
     "output_type": "stream",
     "text": [
      "Aligned quarterly matrix shape: (22, 6)\n"
     ]
    }
   ],
   "source": [
    "import numpy as np\n",
    "import pandas as pd\n",
    "from IPython.display import display\n",
    "\n",
    "from helpers import (\n",
    "    set_style,\n",
    "    styled_table,\n",
    "    prepare_returns_dataset,\n",
    "    exp_weights,\n",
    "    weighted_mean_cov,\n",
    "    nearest_psd,\n",
    "    jb_test,\n",
    "    shapiro_test,\n",
    "    ljung_box,\n",
    "    plot_correlation_heatmap,\n",
    "    plot_acf_grid,\n",
    "    plot_rolling_stats,\n",
    "    plot_drawdowns,\n",
    "    split_crypto_noncrypto,\n",
    "    compute_ledoit_wolf,\n",
    ")\n",
    "\n",
    "set_style()\n",
    "\n",
    "FREQUENCY = \"Q\"\n",
    "BASE_CURRENCY = \"RUB\"\n",
    "ANNUALIZATION_FACTOR = 4  # quarters per year\n",
    "HALF_LIFE_MEAN = 8        # emphasise ~2 years\n",
    "HALF_LIFE_COV = 4         # emphasise ~1 year\n",
    "WINSOR_ALPHA = 0.01\n",
    "\n",
    "FOCUS_TICKERS = [\"GC-F\", \"BTC-USD\", \"SOL-USD\", \"SPY\", \"IEF\", \"SBGB\", \"SBMX\"]\n",
    "\n",
    "dataset = prepare_returns_dataset(\n",
    "    FOCUS_TICKERS,\n",
    "    frequency=FREQUENCY,\n",
    "    base_currency=BASE_CURRENCY,\n",
    "    winsor_alpha=WINSOR_ALPHA,\n",
    ")\n",
    "\n",
    "catalog = dataset[\"catalog\"]\n",
    "fx_quarterly = dataset[\"fx\"]\n",
    "returns_long = dataset[\"returns_long\"]\n",
    "returns_aligned = dataset[\"aligned\"]\n",
    "q_matrix_log = dataset[\"matrix_log\"]\n",
    "q_matrix_simple = dataset[\"matrix_simple\"]\n",
    "\n",
    "print(f\"Aligned quarterly matrix shape: {q_matrix_log.shape}\")\n",
    "\n"
   ]
  },
  {
   "cell_type": "markdown",
   "id": "bfd3b6bd",
   "metadata": {},
   "source": [
    "## Universe Overview"
   ]
  },
  {
   "cell_type": "code",
   "execution_count": 2,
   "id": "12dbdf34",
   "metadata": {
    "execution": {
     "iopub.execute_input": "2025-10-16T23:11:33.119154Z",
     "iopub.status.busy": "2025-10-16T23:11:33.119154Z",
     "iopub.status.idle": "2025-10-16T23:11:33.128121Z",
     "shell.execute_reply": "2025-10-16T23:11:33.128121Z"
    }
   },
   "outputs": [
    {
     "data": {
      "application/vnd.microsoft.datawrangler.viewer.v0+json": {
       "columns": [
        {
         "name": "asset_id",
         "rawType": "object",
         "type": "string"
        },
        {
         "name": "category",
         "rawType": "object",
         "type": "string"
        },
        {
         "name": "asset_type",
         "rawType": "object",
         "type": "string"
        },
        {
         "name": "asset_ccy",
         "rawType": "object",
         "type": "string"
        },
        {
         "name": "path",
         "rawType": "object",
         "type": "unknown"
        }
       ],
       "ref": "54ecc049-c255-4ae4-b19f-c9349880a881",
       "rows": [
        [
         "GC-F",
         "commodities",
         "Commodity future",
         "USD",
         "C:\\Users\\koles\\Desktop\\finance_programs\\data\\commodities\\GC-F.csv"
        ],
        [
         "BTC-USD",
         "crypto",
         "Crypto asset",
         "USD",
         "C:\\Users\\koles\\Desktop\\finance_programs\\data\\crypto\\BTC-USD.csv"
        ],
        [
         "SOL-USD",
         "crypto",
         "Crypto asset",
         "USD",
         "C:\\Users\\koles\\Desktop\\finance_programs\\data\\crypto\\SOL-USD.csv"
        ],
        [
         "SPY",
         "sp500_index",
         "US equity ETF",
         "USD",
         "C:\\Users\\koles\\Desktop\\finance_programs\\data\\sp500_index\\SPY.csv"
        ],
        [
         "IEF",
         "us_bonds",
         "US Treasury ETF",
         "USD",
         "C:\\Users\\koles\\Desktop\\finance_programs\\data\\us_bonds\\IEF.csv"
        ],
        [
         "SBGB",
         "ru_bonds",
         "RU bond ETF",
         "RUB",
         "C:\\Users\\koles\\Desktop\\finance_programs\\data\\ru_bonds\\SBGB.csv"
        ]
       ],
       "shape": {
        "columns": 4,
        "rows": 6
       }
      },
      "text/html": [
       "<div>\n",
       "<style scoped>\n",
       "    .dataframe tbody tr th:only-of-type {\n",
       "        vertical-align: middle;\n",
       "    }\n",
       "\n",
       "    .dataframe tbody tr th {\n",
       "        vertical-align: top;\n",
       "    }\n",
       "\n",
       "    .dataframe thead th {\n",
       "        text-align: right;\n",
       "    }\n",
       "</style>\n",
       "<table border=\"1\" class=\"dataframe\">\n",
       "  <thead>\n",
       "    <tr style=\"text-align: right;\">\n",
       "      <th></th>\n",
       "      <th>category</th>\n",
       "      <th>asset_type</th>\n",
       "      <th>asset_ccy</th>\n",
       "      <th>path</th>\n",
       "    </tr>\n",
       "    <tr>\n",
       "      <th>asset_id</th>\n",
       "      <th></th>\n",
       "      <th></th>\n",
       "      <th></th>\n",
       "      <th></th>\n",
       "    </tr>\n",
       "  </thead>\n",
       "  <tbody>\n",
       "    <tr>\n",
       "      <th>GC-F</th>\n",
       "      <td>commodities</td>\n",
       "      <td>Commodity future</td>\n",
       "      <td>USD</td>\n",
       "      <td>C:\\Users\\koles\\Desktop\\finance_programs\\data\\c...</td>\n",
       "    </tr>\n",
       "    <tr>\n",
       "      <th>BTC-USD</th>\n",
       "      <td>crypto</td>\n",
       "      <td>Crypto asset</td>\n",
       "      <td>USD</td>\n",
       "      <td>C:\\Users\\koles\\Desktop\\finance_programs\\data\\c...</td>\n",
       "    </tr>\n",
       "    <tr>\n",
       "      <th>SOL-USD</th>\n",
       "      <td>crypto</td>\n",
       "      <td>Crypto asset</td>\n",
       "      <td>USD</td>\n",
       "      <td>C:\\Users\\koles\\Desktop\\finance_programs\\data\\c...</td>\n",
       "    </tr>\n",
       "    <tr>\n",
       "      <th>SPY</th>\n",
       "      <td>sp500_index</td>\n",
       "      <td>US equity ETF</td>\n",
       "      <td>USD</td>\n",
       "      <td>C:\\Users\\koles\\Desktop\\finance_programs\\data\\s...</td>\n",
       "    </tr>\n",
       "    <tr>\n",
       "      <th>IEF</th>\n",
       "      <td>us_bonds</td>\n",
       "      <td>US Treasury ETF</td>\n",
       "      <td>USD</td>\n",
       "      <td>C:\\Users\\koles\\Desktop\\finance_programs\\data\\u...</td>\n",
       "    </tr>\n",
       "    <tr>\n",
       "      <th>SBGB</th>\n",
       "      <td>ru_bonds</td>\n",
       "      <td>RU bond ETF</td>\n",
       "      <td>RUB</td>\n",
       "      <td>C:\\Users\\koles\\Desktop\\finance_programs\\data\\r...</td>\n",
       "    </tr>\n",
       "  </tbody>\n",
       "</table>\n",
       "</div>"
      ],
      "text/plain": [
       "             category        asset_type asset_ccy  \\\n",
       "asset_id                                            \n",
       "GC-F      commodities  Commodity future       USD   \n",
       "BTC-USD        crypto      Crypto asset       USD   \n",
       "SOL-USD        crypto      Crypto asset       USD   \n",
       "SPY       sp500_index     US equity ETF       USD   \n",
       "IEF          us_bonds   US Treasury ETF       USD   \n",
       "SBGB         ru_bonds       RU bond ETF       RUB   \n",
       "\n",
       "                                                       path  \n",
       "asset_id                                                     \n",
       "GC-F      C:\\Users\\koles\\Desktop\\finance_programs\\data\\c...  \n",
       "BTC-USD   C:\\Users\\koles\\Desktop\\finance_programs\\data\\c...  \n",
       "SOL-USD   C:\\Users\\koles\\Desktop\\finance_programs\\data\\c...  \n",
       "SPY       C:\\Users\\koles\\Desktop\\finance_programs\\data\\s...  \n",
       "IEF       C:\\Users\\koles\\Desktop\\finance_programs\\data\\u...  \n",
       "SBGB      C:\\Users\\koles\\Desktop\\finance_programs\\data\\r...  "
      ]
     },
     "metadata": {},
     "output_type": "display_data"
    }
   ],
   "source": [
    "catalog_view = catalog.set_index(\"asset_id\")\n",
    "display(styled_table(catalog_view, caption=\"Asset universe (metadata discovered from disk)\"))\n",
    "\n"
   ]
  },
  {
   "cell_type": "markdown",
   "id": "c852c3eb",
   "metadata": {},
   "source": [
    "## Quarterly FX And Returns Snapshot"
   ]
  },
  {
   "cell_type": "code",
   "execution_count": 3,
   "id": "a22fc966",
   "metadata": {
    "execution": {
     "iopub.execute_input": "2025-10-16T23:11:33.130136Z",
     "iopub.status.busy": "2025-10-16T23:11:33.130136Z",
     "iopub.status.idle": "2025-10-16T23:11:33.148953Z",
     "shell.execute_reply": "2025-10-16T23:11:33.148953Z"
    }
   },
   "outputs": [
    {
     "name": "stdout",
     "output_type": "stream",
     "text": [
      "USD/RUB quarterly tail\n"
     ]
    },
    {
     "data": {
      "application/vnd.microsoft.datawrangler.viewer.v0+json": {
       "columns": [
        {
         "name": "index",
         "rawType": "int64",
         "type": "integer"
        },
        {
         "name": "date",
         "rawType": "datetime64[ns]",
         "type": "datetime"
        },
        {
         "name": "fx_rate",
         "rawType": "float64",
         "type": "float"
        },
        {
         "name": "r_fx_log",
         "rawType": "float64",
         "type": "float"
        },
        {
         "name": "r_fx_simple",
         "rawType": "float64",
         "type": "float"
        }
       ],
       "ref": "c317d28a-3c87-409d-9d14-dbc375b34c1f",
       "rows": [
        [
         "99",
         "2024-12-31 23:59:59.999999999",
         "113.4955",
         "0.1992120836725899",
         "0.22044077401594633"
        ],
        [
         "100",
         "2025-03-31 23:59:59.999999999",
         "83.0",
         "-0.31292258076178037",
         "-0.2686934724284219"
        ],
        [
         "101",
         "2025-06-30 23:59:59.999999999",
         "78.2",
         "-0.05957096024533293",
         "-0.057831325301205196"
        ],
        [
         "102",
         "2025-09-30 23:59:59.999999999",
         "82.9",
         "0.0583654145899839",
         "0.060102301790281344"
        ],
        [
         "103",
         "2025-12-31 23:59:59.999999999",
         "79.4983",
         "-0.041899424357395354",
         "-0.041033775633293204"
        ]
       ],
       "shape": {
        "columns": 4,
        "rows": 5
       }
      },
      "text/html": [
       "<div>\n",
       "<style scoped>\n",
       "    .dataframe tbody tr th:only-of-type {\n",
       "        vertical-align: middle;\n",
       "    }\n",
       "\n",
       "    .dataframe tbody tr th {\n",
       "        vertical-align: top;\n",
       "    }\n",
       "\n",
       "    .dataframe thead th {\n",
       "        text-align: right;\n",
       "    }\n",
       "</style>\n",
       "<table border=\"1\" class=\"dataframe\">\n",
       "  <thead>\n",
       "    <tr style=\"text-align: right;\">\n",
       "      <th></th>\n",
       "      <th>date</th>\n",
       "      <th>fx_rate</th>\n",
       "      <th>r_fx_log</th>\n",
       "      <th>r_fx_simple</th>\n",
       "    </tr>\n",
       "  </thead>\n",
       "  <tbody>\n",
       "    <tr>\n",
       "      <th>99</th>\n",
       "      <td>2024-12-31 23:59:59.999999999</td>\n",
       "      <td>113.4955</td>\n",
       "      <td>0.199212</td>\n",
       "      <td>0.220441</td>\n",
       "    </tr>\n",
       "    <tr>\n",
       "      <th>100</th>\n",
       "      <td>2025-03-31 23:59:59.999999999</td>\n",
       "      <td>83.0000</td>\n",
       "      <td>-0.312923</td>\n",
       "      <td>-0.268693</td>\n",
       "    </tr>\n",
       "    <tr>\n",
       "      <th>101</th>\n",
       "      <td>2025-06-30 23:59:59.999999999</td>\n",
       "      <td>78.2000</td>\n",
       "      <td>-0.059571</td>\n",
       "      <td>-0.057831</td>\n",
       "    </tr>\n",
       "    <tr>\n",
       "      <th>102</th>\n",
       "      <td>2025-09-30 23:59:59.999999999</td>\n",
       "      <td>82.9000</td>\n",
       "      <td>0.058365</td>\n",
       "      <td>0.060102</td>\n",
       "    </tr>\n",
       "    <tr>\n",
       "      <th>103</th>\n",
       "      <td>2025-12-31 23:59:59.999999999</td>\n",
       "      <td>79.4983</td>\n",
       "      <td>-0.041899</td>\n",
       "      <td>-0.041034</td>\n",
       "    </tr>\n",
       "  </tbody>\n",
       "</table>\n",
       "</div>"
      ],
      "text/plain": [
       "                             date   fx_rate  r_fx_log  r_fx_simple\n",
       "99  2024-12-31 23:59:59.999999999  113.4955  0.199212     0.220441\n",
       "100 2025-03-31 23:59:59.999999999   83.0000 -0.312923    -0.268693\n",
       "101 2025-06-30 23:59:59.999999999   78.2000 -0.059571    -0.057831\n",
       "102 2025-09-30 23:59:59.999999999   82.9000  0.058365     0.060102\n",
       "103 2025-12-31 23:59:59.999999999   79.4983 -0.041899    -0.041034"
      ]
     },
     "metadata": {},
     "output_type": "display_data"
    },
    {
     "name": "stdout",
     "output_type": "stream",
     "text": [
      "\n",
      "Quarterly returns preview (winsorised log returns)\n"
     ]
    },
    {
     "data": {
      "application/vnd.microsoft.datawrangler.viewer.v0+json": {
       "columns": [
        {
         "name": "index",
         "rawType": "int64",
         "type": "integer"
        },
        {
         "name": "asset_id",
         "rawType": "object",
         "type": "string"
        },
        {
         "name": "date",
         "rawType": "datetime64[ns]",
         "type": "datetime"
        },
        {
         "name": "price_local",
         "rawType": "float64",
         "type": "float"
        },
        {
         "name": "price_base",
         "rawType": "float64",
         "type": "float"
        },
        {
         "name": "r_local_log",
         "rawType": "float64",
         "type": "float"
        },
        {
         "name": "r_fx_log",
         "rawType": "float64",
         "type": "float"
        },
        {
         "name": "r_base_log_w",
         "rawType": "float64",
         "type": "float"
        }
       ],
       "ref": "b206dc3f-eb3a-402d-aaef-72343a575f9d",
       "rows": [
        [
         "23",
         "BTC-USD",
         "2020-06-30 23:59:59.999999999",
         "9137.9931640625",
         "650382.042663086",
         "0.35012275361372325",
         "-0.09724799402459361",
         "0.25287475958912964"
        ],
        [
         "24",
         "BTC-USD",
         "2020-09-30 23:59:59.999999999",
         "10784.4912109375",
         "837220.543238379",
         "0.1656683080455199",
         "0.08685927208402422",
         "0.2525275801295441"
        ],
        [
         "25",
         "BTC-USD",
         "2020-12-31 23:59:59.999999999",
         "29001.720703125",
         "2158078.941133008",
         "0.989246059708524",
         "-0.042359862168042106",
         "0.9468861975404819"
        ],
        [
         "26",
         "BTC-USD",
         "2021-03-31 23:59:59.999999999",
         "58918.83203125",
         "4460078.990283985",
         "0.708805605622091",
         "0.017142424220318198",
         "0.7259480298424092"
        ],
        [
         "27",
         "BTC-USD",
         "2021-06-30 23:59:59.999999999",
         "35040.8359375",
         "2563314.2386671873",
         "-0.5196466459914166",
         "-0.034218785042571476",
         "-0.5538654310339881"
        ],
        [
         "28",
         "BTC-USD",
         "2021-09-30 23:59:59.999999999",
         "43790.89453125",
         "3185848.8844007812",
         "0.22291178590899463",
         "-0.005494052349160228",
         "0.2174177335598344"
        ],
        [
         "244",
         "SBGB",
         "2020-06-30 23:59:59.999999999",
         "12.41",
         "12.41",
         "0.07025993380010709",
         "0.0",
         "0.07025993380010709"
        ],
        [
         "245",
         "SBGB",
         "2020-09-30 23:59:59.999999999",
         "12.33",
         "12.33",
         "-0.006467282040262923",
         "0.0",
         "-0.006467282040262923"
        ],
        [
         "246",
         "SBGB",
         "2020-12-31 23:59:59.999999999",
         "12.546",
         "12.546",
         "0.017366572498298538",
         "0.0",
         "0.017366572498298538"
        ],
        [
         "247",
         "SBGB",
         "2021-03-31 23:59:59.999999999",
         "12.144",
         "12.144",
         "-0.03256666902127714",
         "0.0",
         "-0.03256666902127714"
        ],
        [
         "248",
         "SBGB",
         "2021-06-30 23:59:59.999999999",
         "12.209",
         "12.209",
         "0.005338164033444226",
         "0.0",
         "0.005338164033444226"
        ],
        [
         "249",
         "SBGB",
         "2021-09-30 23:59:59.999999999",
         "12.214",
         "12.214",
         "0.0004094501142244411",
         "0.0",
         "0.0004094501142244411"
        ]
       ],
       "shape": {
        "columns": 7,
        "rows": 12
       }
      },
      "text/html": [
       "<div>\n",
       "<style scoped>\n",
       "    .dataframe tbody tr th:only-of-type {\n",
       "        vertical-align: middle;\n",
       "    }\n",
       "\n",
       "    .dataframe tbody tr th {\n",
       "        vertical-align: top;\n",
       "    }\n",
       "\n",
       "    .dataframe thead th {\n",
       "        text-align: right;\n",
       "    }\n",
       "</style>\n",
       "<table border=\"1\" class=\"dataframe\">\n",
       "  <thead>\n",
       "    <tr style=\"text-align: right;\">\n",
       "      <th></th>\n",
       "      <th>asset_id</th>\n",
       "      <th>date</th>\n",
       "      <th>price_local</th>\n",
       "      <th>price_base</th>\n",
       "      <th>r_local_log</th>\n",
       "      <th>r_fx_log</th>\n",
       "      <th>r_base_log_w</th>\n",
       "    </tr>\n",
       "  </thead>\n",
       "  <tbody>\n",
       "    <tr>\n",
       "      <th>23</th>\n",
       "      <td>BTC-USD</td>\n",
       "      <td>2020-06-30 23:59:59.999999999</td>\n",
       "      <td>9137.993164</td>\n",
       "      <td>6.503820e+05</td>\n",
       "      <td>0.350123</td>\n",
       "      <td>-0.097248</td>\n",
       "      <td>0.252875</td>\n",
       "    </tr>\n",
       "    <tr>\n",
       "      <th>24</th>\n",
       "      <td>BTC-USD</td>\n",
       "      <td>2020-09-30 23:59:59.999999999</td>\n",
       "      <td>10784.491211</td>\n",
       "      <td>8.372205e+05</td>\n",
       "      <td>0.165668</td>\n",
       "      <td>0.086859</td>\n",
       "      <td>0.252528</td>\n",
       "    </tr>\n",
       "    <tr>\n",
       "      <th>25</th>\n",
       "      <td>BTC-USD</td>\n",
       "      <td>2020-12-31 23:59:59.999999999</td>\n",
       "      <td>29001.720703</td>\n",
       "      <td>2.158079e+06</td>\n",
       "      <td>0.989246</td>\n",
       "      <td>-0.042360</td>\n",
       "      <td>0.946886</td>\n",
       "    </tr>\n",
       "    <tr>\n",
       "      <th>26</th>\n",
       "      <td>BTC-USD</td>\n",
       "      <td>2021-03-31 23:59:59.999999999</td>\n",
       "      <td>58918.832031</td>\n",
       "      <td>4.460079e+06</td>\n",
       "      <td>0.708806</td>\n",
       "      <td>0.017142</td>\n",
       "      <td>0.725948</td>\n",
       "    </tr>\n",
       "    <tr>\n",
       "      <th>27</th>\n",
       "      <td>BTC-USD</td>\n",
       "      <td>2021-06-30 23:59:59.999999999</td>\n",
       "      <td>35040.835938</td>\n",
       "      <td>2.563314e+06</td>\n",
       "      <td>-0.519647</td>\n",
       "      <td>-0.034219</td>\n",
       "      <td>-0.553865</td>\n",
       "    </tr>\n",
       "    <tr>\n",
       "      <th>28</th>\n",
       "      <td>BTC-USD</td>\n",
       "      <td>2021-09-30 23:59:59.999999999</td>\n",
       "      <td>43790.894531</td>\n",
       "      <td>3.185849e+06</td>\n",
       "      <td>0.222912</td>\n",
       "      <td>-0.005494</td>\n",
       "      <td>0.217418</td>\n",
       "    </tr>\n",
       "    <tr>\n",
       "      <th>244</th>\n",
       "      <td>SBGB</td>\n",
       "      <td>2020-06-30 23:59:59.999999999</td>\n",
       "      <td>12.410000</td>\n",
       "      <td>1.241000e+01</td>\n",
       "      <td>0.070260</td>\n",
       "      <td>0.000000</td>\n",
       "      <td>0.070260</td>\n",
       "    </tr>\n",
       "    <tr>\n",
       "      <th>245</th>\n",
       "      <td>SBGB</td>\n",
       "      <td>2020-09-30 23:59:59.999999999</td>\n",
       "      <td>12.330000</td>\n",
       "      <td>1.233000e+01</td>\n",
       "      <td>-0.006467</td>\n",
       "      <td>0.000000</td>\n",
       "      <td>-0.006467</td>\n",
       "    </tr>\n",
       "    <tr>\n",
       "      <th>246</th>\n",
       "      <td>SBGB</td>\n",
       "      <td>2020-12-31 23:59:59.999999999</td>\n",
       "      <td>12.546000</td>\n",
       "      <td>1.254600e+01</td>\n",
       "      <td>0.017367</td>\n",
       "      <td>0.000000</td>\n",
       "      <td>0.017367</td>\n",
       "    </tr>\n",
       "    <tr>\n",
       "      <th>247</th>\n",
       "      <td>SBGB</td>\n",
       "      <td>2021-03-31 23:59:59.999999999</td>\n",
       "      <td>12.144000</td>\n",
       "      <td>1.214400e+01</td>\n",
       "      <td>-0.032567</td>\n",
       "      <td>0.000000</td>\n",
       "      <td>-0.032567</td>\n",
       "    </tr>\n",
       "    <tr>\n",
       "      <th>248</th>\n",
       "      <td>SBGB</td>\n",
       "      <td>2021-06-30 23:59:59.999999999</td>\n",
       "      <td>12.209000</td>\n",
       "      <td>1.220900e+01</td>\n",
       "      <td>0.005338</td>\n",
       "      <td>0.000000</td>\n",
       "      <td>0.005338</td>\n",
       "    </tr>\n",
       "    <tr>\n",
       "      <th>249</th>\n",
       "      <td>SBGB</td>\n",
       "      <td>2021-09-30 23:59:59.999999999</td>\n",
       "      <td>12.214000</td>\n",
       "      <td>1.221400e+01</td>\n",
       "      <td>0.000409</td>\n",
       "      <td>0.000000</td>\n",
       "      <td>0.000409</td>\n",
       "    </tr>\n",
       "  </tbody>\n",
       "</table>\n",
       "</div>"
      ],
      "text/plain": [
       "    asset_id                          date   price_local    price_base  \\\n",
       "23   BTC-USD 2020-06-30 23:59:59.999999999   9137.993164  6.503820e+05   \n",
       "24   BTC-USD 2020-09-30 23:59:59.999999999  10784.491211  8.372205e+05   \n",
       "25   BTC-USD 2020-12-31 23:59:59.999999999  29001.720703  2.158079e+06   \n",
       "26   BTC-USD 2021-03-31 23:59:59.999999999  58918.832031  4.460079e+06   \n",
       "27   BTC-USD 2021-06-30 23:59:59.999999999  35040.835938  2.563314e+06   \n",
       "28   BTC-USD 2021-09-30 23:59:59.999999999  43790.894531  3.185849e+06   \n",
       "244     SBGB 2020-06-30 23:59:59.999999999     12.410000  1.241000e+01   \n",
       "245     SBGB 2020-09-30 23:59:59.999999999     12.330000  1.233000e+01   \n",
       "246     SBGB 2020-12-31 23:59:59.999999999     12.546000  1.254600e+01   \n",
       "247     SBGB 2021-03-31 23:59:59.999999999     12.144000  1.214400e+01   \n",
       "248     SBGB 2021-06-30 23:59:59.999999999     12.209000  1.220900e+01   \n",
       "249     SBGB 2021-09-30 23:59:59.999999999     12.214000  1.221400e+01   \n",
       "\n",
       "     r_local_log  r_fx_log  r_base_log_w  \n",
       "23      0.350123 -0.097248      0.252875  \n",
       "24      0.165668  0.086859      0.252528  \n",
       "25      0.989246 -0.042360      0.946886  \n",
       "26      0.708806  0.017142      0.725948  \n",
       "27     -0.519647 -0.034219     -0.553865  \n",
       "28      0.222912 -0.005494      0.217418  \n",
       "244     0.070260  0.000000      0.070260  \n",
       "245    -0.006467  0.000000     -0.006467  \n",
       "246     0.017367  0.000000      0.017367  \n",
       "247    -0.032567  0.000000     -0.032567  \n",
       "248     0.005338  0.000000      0.005338  \n",
       "249     0.000409  0.000000      0.000409  "
      ]
     },
     "metadata": {},
     "output_type": "display_data"
    },
    {
     "name": "stdout",
     "output_type": "stream",
     "text": [
      "\n",
      "Quarterly matrix tail\n"
     ]
    },
    {
     "data": {
      "application/vnd.microsoft.datawrangler.viewer.v0+json": {
       "columns": [
        {
         "name": "date",
         "rawType": "datetime64[ns]",
         "type": "datetime"
        },
        {
         "name": "BTC-USD",
         "rawType": "float64",
         "type": "float"
        },
        {
         "name": "GC-F",
         "rawType": "float64",
         "type": "float"
        },
        {
         "name": "IEF",
         "rawType": "float64",
         "type": "float"
        },
        {
         "name": "SBGB",
         "rawType": "float64",
         "type": "float"
        },
        {
         "name": "SOL-USD",
         "rawType": "float64",
         "type": "float"
        },
        {
         "name": "SPY",
         "rawType": "float64",
         "type": "float"
        }
       ],
       "ref": "1e7d4d93-ad11-474c-8302-96626b91aebc",
       "rows": [
        [
         "2024-09-30 23:59:59.999999999",
         "0.09398257251375064",
         "0.15257353677129526",
         "0.13931248750328695",
         "-0.02507380966395667",
         "0.12461345953166791",
         "0.13972516561656434"
        ],
        [
         "2024-12-31 23:59:59.999999999",
         "0.5880647919835802",
         "0.2626020792901098",
         "0.14867327419150822",
         "0.1036784294748414",
         "0.41441634681261785",
         "0.22351973039936102"
        ],
        [
         "2025-03-31 23:59:59.999999999",
         "-0.4367355290440731",
         "-0.15139019663945064",
         "-0.27227518650526417",
         "0.037963563143915025",
         "-0.7302042076710427",
         "-0.35266338905609856"
        ],
        [
         "2025-06-30 23:59:59.999999999",
         "0.20113088147556013",
         "-0.007747878471551672",
         "-0.04604032362962496",
         "0.08000047781641806",
         "0.15628121412608298",
         "0.04283153418306185"
        ],
        [
         "2025-09-30 23:59:59.999999999",
         "0.16475620710751748",
         "0.08094302402689735",
         "0.04956140145950805",
         "0.0023139789051023207",
         "0.11016111052858957",
         "0.07061288563283608"
        ]
       ],
       "shape": {
        "columns": 6,
        "rows": 5
       }
      },
      "text/html": [
       "<div>\n",
       "<style scoped>\n",
       "    .dataframe tbody tr th:only-of-type {\n",
       "        vertical-align: middle;\n",
       "    }\n",
       "\n",
       "    .dataframe tbody tr th {\n",
       "        vertical-align: top;\n",
       "    }\n",
       "\n",
       "    .dataframe thead th {\n",
       "        text-align: right;\n",
       "    }\n",
       "</style>\n",
       "<table border=\"1\" class=\"dataframe\">\n",
       "  <thead>\n",
       "    <tr style=\"text-align: right;\">\n",
       "      <th>asset_id</th>\n",
       "      <th>BTC-USD</th>\n",
       "      <th>GC-F</th>\n",
       "      <th>IEF</th>\n",
       "      <th>SBGB</th>\n",
       "      <th>SOL-USD</th>\n",
       "      <th>SPY</th>\n",
       "    </tr>\n",
       "    <tr>\n",
       "      <th>date</th>\n",
       "      <th></th>\n",
       "      <th></th>\n",
       "      <th></th>\n",
       "      <th></th>\n",
       "      <th></th>\n",
       "      <th></th>\n",
       "    </tr>\n",
       "  </thead>\n",
       "  <tbody>\n",
       "    <tr>\n",
       "      <th>2024-09-30 23:59:59.999999999</th>\n",
       "      <td>0.093983</td>\n",
       "      <td>0.152574</td>\n",
       "      <td>0.139312</td>\n",
       "      <td>-0.025074</td>\n",
       "      <td>0.124613</td>\n",
       "      <td>0.139725</td>\n",
       "    </tr>\n",
       "    <tr>\n",
       "      <th>2024-12-31 23:59:59.999999999</th>\n",
       "      <td>0.588065</td>\n",
       "      <td>0.262602</td>\n",
       "      <td>0.148673</td>\n",
       "      <td>0.103678</td>\n",
       "      <td>0.414416</td>\n",
       "      <td>0.223520</td>\n",
       "    </tr>\n",
       "    <tr>\n",
       "      <th>2025-03-31 23:59:59.999999999</th>\n",
       "      <td>-0.436736</td>\n",
       "      <td>-0.151390</td>\n",
       "      <td>-0.272275</td>\n",
       "      <td>0.037964</td>\n",
       "      <td>-0.730204</td>\n",
       "      <td>-0.352663</td>\n",
       "    </tr>\n",
       "    <tr>\n",
       "      <th>2025-06-30 23:59:59.999999999</th>\n",
       "      <td>0.201131</td>\n",
       "      <td>-0.007748</td>\n",
       "      <td>-0.046040</td>\n",
       "      <td>0.080000</td>\n",
       "      <td>0.156281</td>\n",
       "      <td>0.042832</td>\n",
       "    </tr>\n",
       "    <tr>\n",
       "      <th>2025-09-30 23:59:59.999999999</th>\n",
       "      <td>0.164756</td>\n",
       "      <td>0.080943</td>\n",
       "      <td>0.049561</td>\n",
       "      <td>0.002314</td>\n",
       "      <td>0.110161</td>\n",
       "      <td>0.070613</td>\n",
       "    </tr>\n",
       "  </tbody>\n",
       "</table>\n",
       "</div>"
      ],
      "text/plain": [
       "asset_id                        BTC-USD      GC-F       IEF      SBGB  \\\n",
       "date                                                                    \n",
       "2024-09-30 23:59:59.999999999  0.093983  0.152574  0.139312 -0.025074   \n",
       "2024-12-31 23:59:59.999999999  0.588065  0.262602  0.148673  0.103678   \n",
       "2025-03-31 23:59:59.999999999 -0.436736 -0.151390 -0.272275  0.037964   \n",
       "2025-06-30 23:59:59.999999999  0.201131 -0.007748 -0.046040  0.080000   \n",
       "2025-09-30 23:59:59.999999999  0.164756  0.080943  0.049561  0.002314   \n",
       "\n",
       "asset_id                        SOL-USD       SPY  \n",
       "date                                               \n",
       "2024-09-30 23:59:59.999999999  0.124613  0.139725  \n",
       "2024-12-31 23:59:59.999999999  0.414416  0.223520  \n",
       "2025-03-31 23:59:59.999999999 -0.730204 -0.352663  \n",
       "2025-06-30 23:59:59.999999999  0.156281  0.042832  \n",
       "2025-09-30 23:59:59.999999999  0.110161  0.070613  "
      ]
     },
     "metadata": {},
     "output_type": "display_data"
    }
   ],
   "source": [
    "print(\"Recent FX behaviour and sample asset returns (winsorised log RUB).\")\n",
    "fx_tail = fx_quarterly.tail().set_index(\"date\")\n",
    "display(styled_table(fx_tail, caption=\"USD/RUB quarterly tail\", precision=4))\n",
    "\n",
    "preview = (\n",
    "    returns_aligned\n",
    "    .loc[returns_aligned[\"asset_id\"].isin([\"BTC-USD\", \"SBGB\"]),\n",
    "         [\"asset_id\", \"date\", \"price_local\", \"price_base\", \"r_local_log\", \"r_fx_log\", \"r_base_log_w\"]]\n",
    "    .groupby(\"asset_id\")\n",
    "    .head(6)\n",
    "    .set_index(\"date\")\n",
    ")\n",
    "display(styled_table(preview, caption=\"Quarterly returns preview (winsorised log returns)\", precision=4))\n",
    "\n",
    "matrix_tail = q_matrix_log.tail()\n",
    "display(styled_table(matrix_tail, caption=\"Quarterly matrix tail (log returns, RUB base)\", precision=4))\n",
    "\n"
   ]
  },
  {
   "cell_type": "markdown",
   "id": "f85fdb7b",
   "metadata": {},
   "source": [
    "### FX Behaviour\n",
    "\n",
    "To keep the currency leg tangible, we track the USD/RUB level alongside its quarterly and rolling annual simple returns. The summary table captures average moves and dispersion across both horizons."
   ]
  },
  {
   "cell_type": "code",
   "execution_count": 4,
   "id": "37d5d15e",
   "metadata": {
    "execution": {
     "iopub.execute_input": "2025-10-16T23:11:33.150240Z",
     "iopub.status.busy": "2025-10-16T23:11:33.150240Z",
     "iopub.status.idle": "2025-10-16T23:11:33.428532Z",
     "shell.execute_reply": "2025-10-16T23:11:33.428532Z"
    }
   },
   "outputs": [
    {
     "data": {
      "image/png": "[encoded data removed]",
      "text/plain": [
       "<Figure size 900x700 with 2 Axes>"
      ]
     },
     "metadata": {},
     "output_type": "display_data"
    },
    {
     "data": {
      "application/vnd.microsoft.datawrangler.viewer.v0+json": {
       "columns": [
        {
         "name": "label",
         "rawType": "object",
         "type": "string"
        },
        {
         "name": "quarterly_mean_simple",
         "rawType": "float64",
         "type": "float"
        },
        {
         "name": "quarterly_sigma_simple",
         "rawType": "float64",
         "type": "float"
        },
        {
         "name": "annual_mean_simple",
         "rawType": "float64",
         "type": "float"
        },
        {
         "name": "annual_sigma_simple",
         "rawType": "float64",
         "type": "float"
        }
       ],
       "ref": "907ddded-f0c1-4880-95c6-279fecd6d614",
       "rows": [
        [
         "USD/RUB",
         "0.0144",
         "0.095",
         "0.0562",
         "0.1982"
        ]
       ],
       "shape": {
        "columns": 4,
        "rows": 1
       }
      },
      "text/html": [
       "<div>\n",
       "<style scoped>\n",
       "    .dataframe tbody tr th:only-of-type {\n",
       "        vertical-align: middle;\n",
       "    }\n",
       "\n",
       "    .dataframe tbody tr th {\n",
       "        vertical-align: top;\n",
       "    }\n",
       "\n",
       "    .dataframe thead th {\n",
       "        text-align: right;\n",
       "    }\n",
       "</style>\n",
       "<table border=\"1\" class=\"dataframe\">\n",
       "  <thead>\n",
       "    <tr style=\"text-align: right;\">\n",
       "      <th></th>\n",
       "      <th>quarterly_mean_simple</th>\n",
       "      <th>quarterly_sigma_simple</th>\n",
       "      <th>annual_mean_simple</th>\n",
       "      <th>annual_sigma_simple</th>\n",
       "    </tr>\n",
       "    <tr>\n",
       "      <th>label</th>\n",
       "      <th></th>\n",
       "      <th></th>\n",
       "      <th></th>\n",
       "      <th></th>\n",
       "    </tr>\n",
       "  </thead>\n",
       "  <tbody>\n",
       "    <tr>\n",
       "      <th>USD/RUB</th>\n",
       "      <td>0.0144</td>\n",
       "      <td>0.095</td>\n",
       "      <td>0.0562</td>\n",
       "      <td>0.1982</td>\n",
       "    </tr>\n",
       "  </tbody>\n",
       "</table>\n",
       "</div>"
      ],
      "text/plain": [
       "         quarterly_mean_simple  quarterly_sigma_simple  annual_mean_simple  \\\n",
       "label                                                                        \n",
       "USD/RUB                 0.0144                   0.095              0.0562   \n",
       "\n",
       "         annual_sigma_simple  \n",
       "label                         \n",
       "USD/RUB               0.1982  "
      ]
     },
     "metadata": {},
     "output_type": "display_data"
    },
    {
     "data": {
      "application/vnd.microsoft.datawrangler.viewer.v0+json": {
       "columns": [
        {
         "name": "date",
         "rawType": "int32",
         "type": "integer"
        },
        {
         "name": "annual_simple_return",
         "rawType": "float64",
         "type": "float"
        }
       ],
       "ref": "03e7282b-3662-4593-a1d6-62ef01d55c86",
       "rows": [
        [
         "2021",
         "0.003249471524120251"
        ],
        [
         "2022",
         "-0.06367919157606006"
        ],
        [
         "2023",
         "0.2927038626609446"
        ],
        [
         "2024",
         "0.25603696325807856"
        ],
        [
         "2025",
         "-0.29954667806212576"
        ]
       ],
       "shape": {
        "columns": 1,
        "rows": 5
       }
      },
      "text/html": [
       "<div>\n",
       "<style scoped>\n",
       "    .dataframe tbody tr th:only-of-type {\n",
       "        vertical-align: middle;\n",
       "    }\n",
       "\n",
       "    .dataframe tbody tr th {\n",
       "        vertical-align: top;\n",
       "    }\n",
       "\n",
       "    .dataframe thead th {\n",
       "        text-align: right;\n",
       "    }\n",
       "</style>\n",
       "<table border=\"1\" class=\"dataframe\">\n",
       "  <thead>\n",
       "    <tr style=\"text-align: right;\">\n",
       "      <th></th>\n",
       "      <th>annual_simple_return</th>\n",
       "    </tr>\n",
       "    <tr>\n",
       "      <th>date</th>\n",
       "      <th></th>\n",
       "    </tr>\n",
       "  </thead>\n",
       "  <tbody>\n",
       "    <tr>\n",
       "      <th>2021</th>\n",
       "      <td>0.003249</td>\n",
       "    </tr>\n",
       "    <tr>\n",
       "      <th>2022</th>\n",
       "      <td>-0.063679</td>\n",
       "    </tr>\n",
       "    <tr>\n",
       "      <th>2023</th>\n",
       "      <td>0.292704</td>\n",
       "    </tr>\n",
       "    <tr>\n",
       "      <th>2024</th>\n",
       "      <td>0.256037</td>\n",
       "    </tr>\n",
       "    <tr>\n",
       "      <th>2025</th>\n",
       "      <td>-0.299547</td>\n",
       "    </tr>\n",
       "  </tbody>\n",
       "</table>\n",
       "</div>"
      ],
      "text/plain": [
       "      annual_simple_return\n",
       "date                      \n",
       "2021              0.003249\n",
       "2022             -0.063679\n",
       "2023              0.292704\n",
       "2024              0.256037\n",
       "2025             -0.299547"
      ]
     },
     "metadata": {},
     "output_type": "display_data"
    }
   ],
   "source": [
    "import matplotlib.pyplot as plt\n",
    "import seaborn as sns\n",
    "\n",
    "fx_view = fx_quarterly.sort_values('date').set_index('date')\n",
    "fx_view['annual_simple_roll'] = (1 + fx_view['r_fx_simple']).rolling(4).apply(lambda r: np.prod(r) - 1, raw=True)\n",
    "\n",
    "fx_simple = fx_view['r_fx_simple'].dropna()\n",
    "quarterly_mean = fx_simple.mean()\n",
    "quarterly_sigma = fx_simple.std(ddof=1)\n",
    "annual_returns = fx_view['r_fx_simple'].groupby(fx_view.index.year).apply(lambda r: (1 + r).prod() - 1)\n",
    "annual_mean = annual_returns.mean()\n",
    "annual_sigma = annual_returns.std(ddof=1)\n",
    "\n",
    "fig, axes = plt.subplots(2, 1, figsize=(9, 7))\n",
    "axes[0].plot(fx_view.index, fx_view['fx_rate'], color='tab:blue', linewidth=1.5)\n",
    "axes[0].set_title('USD/RUB rate (quarterly close)')\n",
    "axes[0].set_ylabel('Rate')\n",
    "axes[0].grid(alpha=0.3)\n",
    "\n",
    "sns.histplot(fx_simple, bins=30, stat='density', color='tab:purple', alpha=0.55, ax=axes[1])\n",
    "sns.kdeplot(fx_simple, color='tab:blue', linewidth=1.5, ax=axes[1])\n",
    "axes[1].axvline(quarterly_mean, color='black', linestyle='--', linewidth=1.2, label=f\"Mean = {quarterly_mean:.2%}\")\n",
    "axes[1].axvspan(quarterly_mean - quarterly_sigma, quarterly_mean + quarterly_sigma, color='tab:orange', alpha=0.2, label=f\"\u00b11\u03c3 ({quarterly_sigma:.2%})\")\n",
    "axes[1].set_title('Distribution of quarterly USD/RUB simple returns')\n",
    "axes[1].set_xlabel('Simple return')\n",
    "axes[1].set_ylabel('Density')\n",
    "axes[1].legend(loc='upper left')\n",
    "axes[1].grid(alpha=0.3)\n",
    "\n",
    "plt.tight_layout()\n",
    "plt.show()\n",
    "\n",
    "print(\n",
    "    \"Quarterly USD/RUB simple returns: \"\n",
    "    f\"mean = {quarterly_mean:.2%}, \u03c3 = {quarterly_sigma:.2%}.\"\n",
    ")\n",
    "print(\n",
    "    \"Annual compounded simple returns (calendar years): \"\n",
    "    f\"mean = {annual_mean:.2%}, \u03c3 = {annual_sigma:.2%}.\"\n",
    ")\n",
    "\n"
   ]
  },
  {
   "cell_type": "markdown",
   "id": "1bcadc8c",
   "metadata": {},
   "source": [
    "## Descriptive Statistics"
   ]
  },
  {
   "cell_type": "code",
   "execution_count": 5,
   "id": "1c5cbdb5",
   "metadata": {
    "execution": {
     "iopub.execute_input": "2025-10-16T23:11:33.430052Z",
     "iopub.status.busy": "2025-10-16T23:11:33.430052Z",
     "iopub.status.idle": "2025-10-16T23:11:33.460045Z",
     "shell.execute_reply": "2025-10-16T23:11:33.460045Z"
    }
   },
   "outputs": [
    {
     "name": "stderr",
     "output_type": "stream",
     "text": [
      "C:\\Users\\koles\\AppData\\Local\\Packages\\PythonSoftwareFoundation.Python.3.12_qbz5n2kfra8p0\\LocalCache\\local-packages\\Python312\\site-packages\\numpy\\lib\\_function_base_impl.py:3065: RuntimeWarning: invalid value encountered in divide\n",
      "  c /= stddev[:, None]\n",
      "C:\\Users\\koles\\AppData\\Local\\Packages\\PythonSoftwareFoundation.Python.3.12_qbz5n2kfra8p0\\LocalCache\\local-packages\\Python312\\site-packages\\numpy\\lib\\_function_base_impl.py:3066: RuntimeWarning: invalid value encountered in divide\n",
      "  c /= stddev[None, :]\n"
     ]
    },
    {
     "data": {
      "application/vnd.microsoft.datawrangler.viewer.v0+json": {
       "columns": [
        {
         "name": "asset_id",
         "rawType": "object",
         "type": "string"
        },
        {
         "name": "obs",
         "rawType": "int64",
         "type": "integer"
        },
        {
         "name": "mean_log_quarter",
         "rawType": "float64",
         "type": "float"
        },
        {
         "name": "mean_simple_quarter",
         "rawType": "float64",
         "type": "float"
        },
        {
         "name": "std_simple_quarter",
         "rawType": "float64",
         "type": "float"
        },
        {
         "name": "skew_simple",
         "rawType": "float64",
         "type": "float"
        },
        {
         "name": "kurt_excess_simple",
         "rawType": "float64",
         "type": "float"
        },
        {
         "name": "min_simple",
         "rawType": "float64",
         "type": "float"
        },
        {
         "name": "max_simple",
         "rawType": "float64",
         "type": "float"
        },
        {
         "name": "autocorr1_simple",
         "rawType": "float64",
         "type": "float"
        },
        {
         "name": "fx_var_share",
         "rawType": "float64",
         "type": "float"
        },
        {
         "name": "fx_corr",
         "rawType": "float64",
         "type": "float"
        },
        {
         "name": "category",
         "rawType": "object",
         "type": "string"
        },
        {
         "name": "asset_type",
         "rawType": "object",
         "type": "string"
        },
        {
         "name": "asset_ccy",
         "rawType": "object",
         "type": "string"
        },
        {
         "name": "path",
         "rawType": "object",
         "type": "unknown"
        },
        {
         "name": "mean_simple_annual",
         "rawType": "float64",
         "type": "float"
        },
        {
         "name": "std_simple_annual",
         "rawType": "float64",
         "type": "float"
        }
       ],
       "ref": "93928000-677d-44af-aa37-4aa79daa980a",
       "rows": [
        [
         "BTC-USD",
         "44",
         "0.1506",
         "0.2796",
         "0.5822",
         "1.11",
         "0.97",
         "-0.6525",
         "1.9519",
         "-0.06",
         "0.09",
         "0.1",
         "crypto",
         "Crypto asset",
         "USD",
         "C:\\Users\\koles\\Desktop\\finance_programs\\data\\crypto\\BTC-USD.csv",
         "0.8262",
         "1.1643"
        ],
        [
         "GC-F",
         "100",
         "0.0392",
         "0.0447",
         "0.1009",
         "0.6",
         "1.37",
         "-0.1921",
         "0.3508",
         "-0.05",
         "1.02",
         "-0.15",
         "commodities",
         "Commodity future",
         "USD",
         "C:\\Users\\koles\\Desktop\\finance_programs\\data\\commodities\\GC-F.csv",
         "0.17",
         "0.2017"
        ],
        [
         "IEF",
         "92",
         "0.0206",
         "0.0261",
         "0.1066",
         "1.13",
         "3.33",
         "-0.2556",
         "0.4052",
         "0.02",
         "1.0",
         "0.14",
         "us_bonds",
         "US Treasury ETF",
         "USD",
         "C:\\Users\\koles\\Desktop\\finance_programs\\data\\us_bonds\\IEF.csv",
         "0.0861",
         "0.2132"
        ],
        [
         "SBGB",
         "26",
         "0.0122",
         "0.0137",
         "0.0556",
         "0.45",
         "0.78",
         "-0.1063",
         "0.1548",
         "-0.26",
         "0.0",
         null,
         "ru_bonds",
         "RU bond ETF",
         "RUB",
         "C:\\Users\\koles\\Desktop\\finance_programs\\data\\ru_bonds\\SBGB.csv",
         "0.05",
         "0.1111"
        ],
        [
         "SOL-USD",
         "21",
         "0.2537",
         "0.9648",
         "2.2814",
         "2.93",
         "10.1",
         "-0.8032",
         "9.5242",
         "-0.11",
         "0.03",
         "0.22",
         "crypto",
         "Crypto asset",
         "USD",
         "C:\\Users\\koles\\Desktop\\finance_programs\\data\\crypto\\SOL-USD.csv",
         "1.7587",
         "4.5628"
        ],
        [
         "SPY",
         "103",
         "0.0304",
         "0.0356",
         "0.0972",
         "-0.35",
         "2.21",
         "-0.2972",
         "0.2851",
         "0.08",
         "0.96",
         "-0.16",
         "sp500_index",
         "US equity ETF",
         "USD",
         "C:\\Users\\koles\\Desktop\\finance_programs\\data\\sp500_index\\SPY.csv",
         "0.1294",
         "0.1943"
        ]
       ],
       "shape": {
        "columns": 17,
        "rows": 6
       }
      },
      "text/html": [
       "<div>\n",
       "<style scoped>\n",
       "    .dataframe tbody tr th:only-of-type {\n",
       "        vertical-align: middle;\n",
       "    }\n",
       "\n",
       "    .dataframe tbody tr th {\n",
       "        vertical-align: top;\n",
       "    }\n",
       "\n",
       "    .dataframe thead th {\n",
       "        text-align: right;\n",
       "    }\n",
       "</style>\n",
       "<table border=\"1\" class=\"dataframe\">\n",
       "  <thead>\n",
       "    <tr style=\"text-align: right;\">\n",
       "      <th></th>\n",
       "      <th>obs</th>\n",
       "      <th>mean_log_quarter</th>\n",
       "      <th>mean_simple_quarter</th>\n",
       "      <th>std_simple_quarter</th>\n",
       "      <th>skew_simple</th>\n",
       "      <th>kurt_excess_simple</th>\n",
       "      <th>min_simple</th>\n",
       "      <th>max_simple</th>\n",
       "      <th>autocorr1_simple</th>\n",
       "      <th>fx_var_share</th>\n",
       "      <th>fx_corr</th>\n",
       "      <th>category</th>\n",
       "      <th>asset_type</th>\n",
       "      <th>asset_ccy</th>\n",
       "      <th>path</th>\n",
       "      <th>mean_simple_annual</th>\n",
       "      <th>std_simple_annual</th>\n",
       "    </tr>\n",
       "    <tr>\n",
       "      <th>asset_id</th>\n",
       "      <th></th>\n",
       "      <th></th>\n",
       "      <th></th>\n",
       "      <th></th>\n",
       "      <th></th>\n",
       "      <th></th>\n",
       "      <th></th>\n",
       "      <th></th>\n",
       "      <th></th>\n",
       "      <th></th>\n",
       "      <th></th>\n",
       "      <th></th>\n",
       "      <th></th>\n",
       "      <th></th>\n",
       "      <th></th>\n",
       "      <th></th>\n",
       "      <th></th>\n",
       "    </tr>\n",
       "  </thead>\n",
       "  <tbody>\n",
       "    <tr>\n",
       "      <th>BTC-USD</th>\n",
       "      <td>44</td>\n",
       "      <td>0.1506</td>\n",
       "      <td>0.2796</td>\n",
       "      <td>0.5822</td>\n",
       "      <td>1.11</td>\n",
       "      <td>0.97</td>\n",
       "      <td>-0.6525</td>\n",
       "      <td>1.9519</td>\n",
       "      <td>-0.06</td>\n",
       "      <td>0.09</td>\n",
       "      <td>0.10</td>\n",
       "      <td>crypto</td>\n",
       "      <td>Crypto asset</td>\n",
       "      <td>USD</td>\n",
       "      <td>C:\\Users\\koles\\Desktop\\finance_programs\\data\\c...</td>\n",
       "      <td>0.8262</td>\n",
       "      <td>1.1643</td>\n",
       "    </tr>\n",
       "    <tr>\n",
       "      <th>GC-F</th>\n",
       "      <td>100</td>\n",
       "      <td>0.0392</td>\n",
       "      <td>0.0447</td>\n",
       "      <td>0.1009</td>\n",
       "      <td>0.60</td>\n",
       "      <td>1.37</td>\n",
       "      <td>-0.1921</td>\n",
       "      <td>0.3508</td>\n",
       "      <td>-0.05</td>\n",
       "      <td>1.02</td>\n",
       "      <td>-0.15</td>\n",
       "      <td>commodities</td>\n",
       "      <td>Commodity future</td>\n",
       "      <td>USD</td>\n",
       "      <td>C:\\Users\\koles\\Desktop\\finance_programs\\data\\c...</td>\n",
       "      <td>0.1700</td>\n",
       "      <td>0.2017</td>\n",
       "    </tr>\n",
       "    <tr>\n",
       "      <th>IEF</th>\n",
       "      <td>92</td>\n",
       "      <td>0.0206</td>\n",
       "      <td>0.0261</td>\n",
       "      <td>0.1066</td>\n",
       "      <td>1.13</td>\n",
       "      <td>3.33</td>\n",
       "      <td>-0.2556</td>\n",
       "      <td>0.4052</td>\n",
       "      <td>0.02</td>\n",
       "      <td>1.00</td>\n",
       "      <td>0.14</td>\n",
       "      <td>us_bonds</td>\n",
       "      <td>US Treasury ETF</td>\n",
       "      <td>USD</td>\n",
       "      <td>C:\\Users\\koles\\Desktop\\finance_programs\\data\\u...</td>\n",
       "      <td>0.0861</td>\n",
       "      <td>0.2132</td>\n",
       "    </tr>\n",
       "    <tr>\n",
       "      <th>SBGB</th>\n",
       "      <td>26</td>\n",
       "      <td>0.0122</td>\n",
       "      <td>0.0137</td>\n",
       "      <td>0.0556</td>\n",
       "      <td>0.45</td>\n",
       "      <td>0.78</td>\n",
       "      <td>-0.1063</td>\n",
       "      <td>0.1548</td>\n",
       "      <td>-0.26</td>\n",
       "      <td>0.00</td>\n",
       "      <td>NaN</td>\n",
       "      <td>ru_bonds</td>\n",
       "      <td>RU bond ETF</td>\n",
       "      <td>RUB</td>\n",
       "      <td>C:\\Users\\koles\\Desktop\\finance_programs\\data\\r...</td>\n",
       "      <td>0.0500</td>\n",
       "      <td>0.1111</td>\n",
       "    </tr>\n",
       "    <tr>\n",
       "      <th>SOL-USD</th>\n",
       "      <td>21</td>\n",
       "      <td>0.2537</td>\n",
       "      <td>0.9648</td>\n",
       "      <td>2.2814</td>\n",
       "      <td>2.93</td>\n",
       "      <td>10.10</td>\n",
       "      <td>-0.8032</td>\n",
       "      <td>9.5242</td>\n",
       "      <td>-0.11</td>\n",
       "      <td>0.03</td>\n",
       "      <td>0.22</td>\n",
       "      <td>crypto</td>\n",
       "      <td>Crypto asset</td>\n",
       "      <td>USD</td>\n",
       "      <td>C:\\Users\\koles\\Desktop\\finance_programs\\data\\c...</td>\n",
       "      <td>1.7587</td>\n",
       "      <td>4.5628</td>\n",
       "    </tr>\n",
       "    <tr>\n",
       "      <th>SPY</th>\n",
       "      <td>103</td>\n",
       "      <td>0.0304</td>\n",
       "      <td>0.0356</td>\n",
       "      <td>0.0972</td>\n",
       "      <td>-0.35</td>\n",
       "      <td>2.21</td>\n",
       "      <td>-0.2972</td>\n",
       "      <td>0.2851</td>\n",
       "      <td>0.08</td>\n",
       "      <td>0.96</td>\n",
       "      <td>-0.16</td>\n",
       "      <td>sp500_index</td>\n",
       "      <td>US equity ETF</td>\n",
       "      <td>USD</td>\n",
       "      <td>C:\\Users\\koles\\Desktop\\finance_programs\\data\\s...</td>\n",
       "      <td>0.1294</td>\n",
       "      <td>0.1943</td>\n",
       "    </tr>\n",
       "  </tbody>\n",
       "</table>\n",
       "</div>"
      ],
      "text/plain": [
       "          obs  mean_log_quarter  mean_simple_quarter  std_simple_quarter  \\\n",
       "asset_id                                                                   \n",
       "BTC-USD    44            0.1506               0.2796              0.5822   \n",
       "GC-F      100            0.0392               0.0447              0.1009   \n",
       "IEF        92            0.0206               0.0261              0.1066   \n",
       "SBGB       26            0.0122               0.0137              0.0556   \n",
       "SOL-USD    21            0.2537               0.9648              2.2814   \n",
       "SPY       103            0.0304               0.0356              0.0972   \n",
       "\n",
       "          skew_simple  kurt_excess_simple  min_simple  max_simple  \\\n",
       "asset_id                                                            \n",
       "BTC-USD          1.11                0.97     -0.6525      1.9519   \n",
       "GC-F             0.60                1.37     -0.1921      0.3508   \n",
       "IEF              1.13                3.33     -0.2556      0.4052   \n",
       "SBGB             0.45                0.78     -0.1063      0.1548   \n",
       "SOL-USD          2.93               10.10     -0.8032      9.5242   \n",
       "SPY             -0.35                2.21     -0.2972      0.2851   \n",
       "\n",
       "          autocorr1_simple  fx_var_share  fx_corr     category  \\\n",
       "asset_id                                                         \n",
       "BTC-USD              -0.06          0.09     0.10       crypto   \n",
       "GC-F                 -0.05          1.02    -0.15  commodities   \n",
       "IEF                   0.02          1.00     0.14     us_bonds   \n",
       "SBGB                 -0.26          0.00      NaN     ru_bonds   \n",
       "SOL-USD              -0.11          0.03     0.22       crypto   \n",
       "SPY                   0.08          0.96    -0.16  sp500_index   \n",
       "\n",
       "                asset_type asset_ccy  \\\n",
       "asset_id                               \n",
       "BTC-USD       Crypto asset       USD   \n",
       "GC-F      Commodity future       USD   \n",
       "IEF        US Treasury ETF       USD   \n",
       "SBGB           RU bond ETF       RUB   \n",
       "SOL-USD       Crypto asset       USD   \n",
       "SPY          US equity ETF       USD   \n",
       "\n",
       "                                                       path  \\\n",
       "asset_id                                                      \n",
       "BTC-USD   C:\\Users\\koles\\Desktop\\finance_programs\\data\\c...   \n",
       "GC-F      C:\\Users\\koles\\Desktop\\finance_programs\\data\\c...   \n",
       "IEF       C:\\Users\\koles\\Desktop\\finance_programs\\data\\u...   \n",
       "SBGB      C:\\Users\\koles\\Desktop\\finance_programs\\data\\r...   \n",
       "SOL-USD   C:\\Users\\koles\\Desktop\\finance_programs\\data\\c...   \n",
       "SPY       C:\\Users\\koles\\Desktop\\finance_programs\\data\\s...   \n",
       "\n",
       "          mean_simple_annual  std_simple_annual  \n",
       "asset_id                                         \n",
       "BTC-USD               0.8262             1.1643  \n",
       "GC-F                  0.1700             0.2017  \n",
       "IEF                   0.0861             0.2132  \n",
       "SBGB                  0.0500             0.1111  \n",
       "SOL-USD               1.7587             4.5628  \n",
       "SPY                   0.1294             0.1943  "
      ]
     },
     "metadata": {},
     "output_type": "display_data"
    }
   ],
   "source": [
    "metrics_rows = []\n",
    "for asset_id, group in returns_long.groupby(\"asset_id\"):\n",
    "    base_log = group[\"r_base_log_w\"].dropna()\n",
    "    base_simple = group[\"r_base_simple_w\"].dropna()\n",
    "    fx_leg = group[\"r_fx_log\"].dropna()\n",
    "    stats = {\n",
    "        \"asset_id\": asset_id,\n",
    "        \"obs\": int(len(base_log)),\n",
    "        \"mean_log_quarter\": base_log.mean(),\n",
    "        \"mean_simple_quarter\": base_simple.mean(),\n",
    "        \"std_simple_quarter\": base_simple.std(ddof=1),\n",
    "        \"skew_simple\": base_simple.skew(),\n",
    "        \"kurt_excess_simple\": base_simple.kurt(),\n",
    "        \"min_simple\": base_simple.min(),\n",
    "        \"max_simple\": base_simple.max(),\n",
    "        \"autocorr1_simple\": base_simple.autocorr(),\n",
    "    }\n",
    "    var_base = base_log.var(ddof=1)\n",
    "    var_fx = fx_leg.var(ddof=1)\n",
    "    stats[\"fx_var_share\"] = var_fx / var_base if pd.notna(var_base) and var_base != 0 else np.nan\n",
    "    corr_df = group[[\"r_local_log\", \"r_fx_log\"]].dropna()\n",
    "    stats[\"fx_corr\"] = corr_df[\"r_local_log\"].corr(corr_df[\"r_fx_log\"]) if len(corr_df) > 1 else np.nan\n",
    "    metrics_rows.append(stats)\n",
    "\n",
    "metrics_df = (pd.DataFrame(metrics_rows)\n",
    "              .merge(catalog, on=\"asset_id\", how=\"left\")\n",
    "              .assign(mean_simple_annual=lambda df: np.expm1(df[\"mean_log_quarter\"] * ANNUALIZATION_FACTOR),\n",
    "                      std_simple_annual=lambda df: df[\"std_simple_quarter\"] * np.sqrt(ANNUALIZATION_FACTOR))\n",
    "              .set_index(\"asset_id\"))\n",
    "\n",
    "display(metrics_df.round({\n",
    "    \"mean_log_quarter\": 4,\n",
    "    \"mean_simple_quarter\": 4,\n",
    "    \"std_simple_quarter\": 4,\n",
    "    \"skew_simple\": 2,\n",
    "    \"kurt_excess_simple\": 2,\n",
    "    \"min_simple\": 4,\n",
    "    \"max_simple\": 4,\n",
    "    \"autocorr1_simple\": 2,\n",
    "    \"fx_var_share\": 2,\n",
    "    \"fx_corr\": 2,\n",
    "    \"mean_simple_annual\": 4,\n",
    "    \"std_simple_annual\": 4,\n",
    "}))"
   ]
  },
  {
   "cell_type": "markdown",
   "id": "d4a05d2c",
   "metadata": {},
   "source": [
    "### Winsorisation Impact\n",
    "\n",
    "We compare log-return distributions before and after winsorisation to see which observations were capped and how much the extreme percentiles and variance shifted."
   ]
  },
  {
   "cell_type": "code",
   "execution_count": 6,
   "id": "7490d417",
   "metadata": {
    "execution": {
     "iopub.execute_input": "2025-10-16T23:11:33.461729Z",
     "iopub.status.busy": "2025-10-16T23:11:33.461729Z",
     "iopub.status.idle": "2025-10-16T23:11:33.670364Z",
     "shell.execute_reply": "2025-10-16T23:11:33.670364Z"
    }
   },
   "outputs": [
    {
     "data": {
      "application/vnd.microsoft.datawrangler.viewer.v0+json": {
       "columns": [
        {
         "name": "index",
         "rawType": "object",
         "type": "string"
        },
        {
         "name": "('meta', 'n_obs')",
         "rawType": "float64",
         "type": "float"
        },
        {
         "name": "('meta', 'winsorised')",
         "rawType": "float64",
         "type": "float"
        },
        {
         "name": "('meta', 'winsorised_share')",
         "rawType": "float64",
         "type": "float"
        },
        {
         "name": "('before', 'min')",
         "rawType": "float64",
         "type": "float"
        },
        {
         "name": "('before', 'q01')",
         "rawType": "float64",
         "type": "float"
        },
        {
         "name": "('before', 'q05')",
         "rawType": "float64",
         "type": "float"
        },
        {
         "name": "('before', 'q50')",
         "rawType": "float64",
         "type": "float"
        },
        {
         "name": "('before', 'q95')",
         "rawType": "float64",
         "type": "float"
        },
        {
         "name": "('before', 'q99')",
         "rawType": "float64",
         "type": "float"
        },
        {
         "name": "('before', 'max')",
         "rawType": "float64",
         "type": "float"
        },
        {
         "name": "('before', 'mean')",
         "rawType": "float64",
         "type": "float"
        },
        {
         "name": "('before', 'var')",
         "rawType": "float64",
         "type": "float"
        },
        {
         "name": "('after', 'min')",
         "rawType": "float64",
         "type": "float"
        },
        {
         "name": "('after', 'q01')",
         "rawType": "float64",
         "type": "float"
        },
        {
         "name": "('after', 'q05')",
         "rawType": "float64",
         "type": "float"
        },
        {
         "name": "('after', 'q50')",
         "rawType": "float64",
         "type": "float"
        },
        {
         "name": "('after', 'q95')",
         "rawType": "float64",
         "type": "float"
        },
        {
         "name": "('after', 'q99')",
         "rawType": "float64",
         "type": "float"
        },
        {
         "name": "('after', 'max')",
         "rawType": "float64",
         "type": "float"
        },
        {
         "name": "('after', 'mean')",
         "rawType": "float64",
         "type": "float"
        },
        {
         "name": "('after', 'var')",
         "rawType": "float64",
         "type": "float"
        }
       ],
       "ref": "f81b73e6-2032-4a63-a185-ee07a0ae834f",
       "rows": [
        [
         "BTC-USD",
         "44.0",
         "3.0",
         "0.0682",
         "-1.3143",
         "-1.0571",
         "-0.547",
         "0.1018",
         "0.9246",
         "1.0824",
         "1.1847",
         "0.147",
         "0.2208",
         "-1.0571",
         "-0.9105",
         "-0.547",
         "0.1018",
         "0.9246",
         "1.0242",
         "1.0824",
         "0.1506",
         "0.2001"
        ],
        [
         "GC-F",
         "100.0",
         "3.0",
         "0.03",
         "-0.558",
         "-0.2133",
         "-0.0969",
         "0.0408",
         "0.1872",
         "0.3007",
         "0.3233",
         "0.036",
         "0.0122",
         "-0.2133",
         "-0.2098",
         "-0.0969",
         "0.0408",
         "0.1872",
         "0.3005",
         "0.3007",
         "0.0392",
         "0.0091"
        ],
        [
         "IEF",
         "92.0",
         "3.0",
         "0.0326",
         "-0.5267",
         "-0.2952",
         "-0.0882",
         "0.0007",
         "0.1906",
         "0.3402",
         "0.3735",
         "0.0185",
         "0.0125",
         "-0.2952",
         "-0.2743",
         "-0.0882",
         "0.0007",
         "0.1906",
         "0.3372",
         "0.3402",
         "0.0206",
         "0.0101"
        ],
        [
         "SBGB",
         "26.0",
         "3.0",
         "0.1154",
         "-0.1336",
         "-0.1124",
         "-0.0483",
         "0.0067",
         "0.0978",
         "0.1439",
         "0.1573",
         "0.0119",
         "0.0033",
         "-0.1124",
         "-0.0965",
         "-0.0483",
         "0.0067",
         "0.0978",
         "0.1338",
         "0.1439",
         "0.0122",
         "0.003"
        ],
        [
         "SOL-USD",
         "21.0",
         "3.0",
         "0.1429",
         "-1.7759",
         "-1.6258",
         "-1.0253",
         "0.1563",
         "1.4761",
         "2.3537",
         "2.5731",
         "0.257",
         "0.9162",
         "-1.6258",
         "-1.5057",
         "-1.0253",
         "0.1563",
         "1.4761",
         "2.1782",
         "2.3537",
         "0.2537",
         "0.8384"
        ],
        [
         "SPY",
         "103.0",
         "4.0",
         "0.0388",
         "-0.6575",
         "-0.3527",
         "-0.1306",
         "0.0348",
         "0.1768",
         "0.2508",
         "0.3926",
         "0.0288",
         "0.0135",
         "-0.3527",
         "-0.3492",
         "-0.1306",
         "0.0348",
         "0.1768",
         "0.2503",
         "0.2508",
         "0.0304",
         "0.0095"
        ]
       ],
       "shape": {
        "columns": 21,
        "rows": 6
       }
      },
      "text/html": [
       "<div>\n",
       "<style scoped>\n",
       "    .dataframe tbody tr th:only-of-type {\n",
       "        vertical-align: middle;\n",
       "    }\n",
       "\n",
       "    .dataframe tbody tr th {\n",
       "        vertical-align: top;\n",
       "    }\n",
       "\n",
       "    .dataframe thead tr th {\n",
       "        text-align: left;\n",
       "    }\n",
       "</style>\n",
       "<table border=\"1\" class=\"dataframe\">\n",
       "  <thead>\n",
       "    <tr>\n",
       "      <th></th>\n",
       "      <th colspan=\"3\" halign=\"left\">meta</th>\n",
       "      <th colspan=\"9\" halign=\"left\">before</th>\n",
       "      <th colspan=\"9\" halign=\"left\">after</th>\n",
       "    </tr>\n",
       "    <tr>\n",
       "      <th></th>\n",
       "      <th>n_obs</th>\n",
       "      <th>winsorised</th>\n",
       "      <th>winsorised_share</th>\n",
       "      <th>min</th>\n",
       "      <th>q01</th>\n",
       "      <th>q05</th>\n",
       "      <th>q50</th>\n",
       "      <th>q95</th>\n",
       "      <th>q99</th>\n",
       "      <th>max</th>\n",
       "      <th>...</th>\n",
       "      <th>var</th>\n",
       "      <th>min</th>\n",
       "      <th>q01</th>\n",
       "      <th>q05</th>\n",
       "      <th>q50</th>\n",
       "      <th>q95</th>\n",
       "      <th>q99</th>\n",
       "      <th>max</th>\n",
       "      <th>mean</th>\n",
       "      <th>var</th>\n",
       "    </tr>\n",
       "  </thead>\n",
       "  <tbody>\n",
       "    <tr>\n",
       "      <th>BTC-USD</th>\n",
       "      <td>44.0</td>\n",
       "      <td>3.0</td>\n",
       "      <td>0.0682</td>\n",
       "      <td>-1.3143</td>\n",
       "      <td>-1.0571</td>\n",
       "      <td>-0.5470</td>\n",
       "      <td>0.1018</td>\n",
       "      <td>0.9246</td>\n",
       "      <td>1.0824</td>\n",
       "      <td>1.1847</td>\n",
       "      <td>...</td>\n",
       "      <td>0.2208</td>\n",
       "      <td>-1.0571</td>\n",
       "      <td>-0.9105</td>\n",
       "      <td>-0.5470</td>\n",
       "      <td>0.1018</td>\n",
       "      <td>0.9246</td>\n",
       "      <td>1.0242</td>\n",
       "      <td>1.0824</td>\n",
       "      <td>0.1506</td>\n",
       "      <td>0.2001</td>\n",
       "    </tr>\n",
       "    <tr>\n",
       "      <th>GC-F</th>\n",
       "      <td>100.0</td>\n",
       "      <td>3.0</td>\n",
       "      <td>0.0300</td>\n",
       "      <td>-0.5580</td>\n",
       "      <td>-0.2133</td>\n",
       "      <td>-0.0969</td>\n",
       "      <td>0.0408</td>\n",
       "      <td>0.1872</td>\n",
       "      <td>0.3007</td>\n",
       "      <td>0.3233</td>\n",
       "      <td>...</td>\n",
       "      <td>0.0122</td>\n",
       "      <td>-0.2133</td>\n",
       "      <td>-0.2098</td>\n",
       "      <td>-0.0969</td>\n",
       "      <td>0.0408</td>\n",
       "      <td>0.1872</td>\n",
       "      <td>0.3005</td>\n",
       "      <td>0.3007</td>\n",
       "      <td>0.0392</td>\n",
       "      <td>0.0091</td>\n",
       "    </tr>\n",
       "    <tr>\n",
       "      <th>IEF</th>\n",
       "      <td>92.0</td>\n",
       "      <td>3.0</td>\n",
       "      <td>0.0326</td>\n",
       "      <td>-0.5267</td>\n",
       "      <td>-0.2952</td>\n",
       "      <td>-0.0882</td>\n",
       "      <td>0.0007</td>\n",
       "      <td>0.1906</td>\n",
       "      <td>0.3402</td>\n",
       "      <td>0.3735</td>\n",
       "      <td>...</td>\n",
       "      <td>0.0125</td>\n",
       "      <td>-0.2952</td>\n",
       "      <td>-0.2743</td>\n",
       "      <td>-0.0882</td>\n",
       "      <td>0.0007</td>\n",
       "      <td>0.1906</td>\n",
       "      <td>0.3372</td>\n",
       "      <td>0.3402</td>\n",
       "      <td>0.0206</td>\n",
       "      <td>0.0101</td>\n",
       "    </tr>\n",
       "    <tr>\n",
       "      <th>SBGB</th>\n",
       "      <td>26.0</td>\n",
       "      <td>3.0</td>\n",
       "      <td>0.1154</td>\n",
       "      <td>-0.1336</td>\n",
       "      <td>-0.1124</td>\n",
       "      <td>-0.0483</td>\n",
       "      <td>0.0067</td>\n",
       "      <td>0.0978</td>\n",
       "      <td>0.1439</td>\n",
       "      <td>0.1573</td>\n",
       "      <td>...</td>\n",
       "      <td>0.0033</td>\n",
       "      <td>-0.1124</td>\n",
       "      <td>-0.0965</td>\n",
       "      <td>-0.0483</td>\n",
       "      <td>0.0067</td>\n",
       "      <td>0.0978</td>\n",
       "      <td>0.1338</td>\n",
       "      <td>0.1439</td>\n",
       "      <td>0.0122</td>\n",
       "      <td>0.0030</td>\n",
       "    </tr>\n",
       "    <tr>\n",
       "      <th>SOL-USD</th>\n",
       "      <td>21.0</td>\n",
       "      <td>3.0</td>\n",
       "      <td>0.1429</td>\n",
       "      <td>-1.7759</td>\n",
       "      <td>-1.6258</td>\n",
       "      <td>-1.0253</td>\n",
       "      <td>0.1563</td>\n",
       "      <td>1.4761</td>\n",
       "      <td>2.3537</td>\n",
       "      <td>2.5731</td>\n",
       "      <td>...</td>\n",
       "      <td>0.9162</td>\n",
       "      <td>-1.6258</td>\n",
       "      <td>-1.5057</td>\n",
       "      <td>-1.0253</td>\n",
       "      <td>0.1563</td>\n",
       "      <td>1.4761</td>\n",
       "      <td>2.1782</td>\n",
       "      <td>2.3537</td>\n",
       "      <td>0.2537</td>\n",
       "      <td>0.8384</td>\n",
       "    </tr>\n",
       "    <tr>\n",
       "      <th>SPY</th>\n",
       "      <td>103.0</td>\n",
       "      <td>4.0</td>\n",
       "      <td>0.0388</td>\n",
       "      <td>-0.6575</td>\n",
       "      <td>-0.3527</td>\n",
       "      <td>-0.1306</td>\n",
       "      <td>0.0348</td>\n",
       "      <td>0.1768</td>\n",
       "      <td>0.2508</td>\n",
       "      <td>0.3926</td>\n",
       "      <td>...</td>\n",
       "      <td>0.0135</td>\n",
       "      <td>-0.3527</td>\n",
       "      <td>-0.3492</td>\n",
       "      <td>-0.1306</td>\n",
       "      <td>0.0348</td>\n",
       "      <td>0.1768</td>\n",
       "      <td>0.2503</td>\n",
       "      <td>0.2508</td>\n",
       "      <td>0.0304</td>\n",
       "      <td>0.0095</td>\n",
       "    </tr>\n",
       "  </tbody>\n",
       "</table>\n",
       "<p>6 rows \u00d7 21 columns</p>\n",
       "</div>"
      ],
      "text/plain": [
       "          meta                              before                          \\\n",
       "         n_obs winsorised winsorised_share     min     q01     q05     q50   \n",
       "BTC-USD   44.0        3.0           0.0682 -1.3143 -1.0571 -0.5470  0.1018   \n",
       "GC-F     100.0        3.0           0.0300 -0.5580 -0.2133 -0.0969  0.0408   \n",
       "IEF       92.0        3.0           0.0326 -0.5267 -0.2952 -0.0882  0.0007   \n",
       "SBGB      26.0        3.0           0.1154 -0.1336 -0.1124 -0.0483  0.0067   \n",
       "SOL-USD   21.0        3.0           0.1429 -1.7759 -1.6258 -1.0253  0.1563   \n",
       "SPY      103.0        4.0           0.0388 -0.6575 -0.3527 -0.1306  0.0348   \n",
       "\n",
       "                                 ...           after                          \\\n",
       "            q95     q99     max  ...     var     min     q01     q05     q50   \n",
       "BTC-USD  0.9246  1.0824  1.1847  ...  0.2208 -1.0571 -0.9105 -0.5470  0.1018   \n",
       "GC-F     0.1872  0.3007  0.3233  ...  0.0122 -0.2133 -0.2098 -0.0969  0.0408   \n",
       "IEF      0.1906  0.3402  0.3735  ...  0.0125 -0.2952 -0.2743 -0.0882  0.0007   \n",
       "SBGB     0.0978  0.1439  0.1573  ...  0.0033 -0.1124 -0.0965 -0.0483  0.0067   \n",
       "SOL-USD  1.4761  2.3537  2.5731  ...  0.9162 -1.6258 -1.5057 -1.0253  0.1563   \n",
       "SPY      0.1768  0.2508  0.3926  ...  0.0135 -0.3527 -0.3492 -0.1306  0.0348   \n",
       "\n",
       "                                                 \n",
       "            q95     q99     max    mean     var  \n",
       "BTC-USD  0.9246  1.0242  1.0824  0.1506  0.2001  \n",
       "GC-F     0.1872  0.3005  0.3007  0.0392  0.0091  \n",
       "IEF      0.1906  0.3372  0.3402  0.0206  0.0101  \n",
       "SBGB     0.0978  0.1338  0.1439  0.0122  0.0030  \n",
       "SOL-USD  1.4761  2.1782  2.3537  0.2537  0.8384  \n",
       "SPY      0.1768  0.2503  0.2508  0.0304  0.0095  \n",
       "\n",
       "[6 rows x 21 columns]"
      ]
     },
     "metadata": {},
     "output_type": "display_data"
    },
    {
     "data": {
      "application/vnd.microsoft.datawrangler.viewer.v0+json": {
       "columns": [
        {
         "name": "index",
         "rawType": "object",
         "type": "string"
        },
        {
         "name": "winsorised",
         "rawType": "float64",
         "type": "float"
        },
        {
         "name": "winsorised_share",
         "rawType": "float64",
         "type": "float"
        },
        {
         "name": "mean_shift",
         "rawType": "float64",
         "type": "float"
        },
        {
         "name": "var_reduction",
         "rawType": "float64",
         "type": "float"
        }
       ],
       "ref": "03a8063d-85b9-4842-88a0-9df01f2f2fc6",
       "rows": [
        [
         "BTC-USD",
         "3.0",
         "0.0682",
         "0.0035",
         "-0.0206"
        ],
        [
         "GC-F",
         "3.0",
         "0.03",
         "0.0032",
         "-0.0031"
        ],
        [
         "IEF",
         "3.0",
         "0.0326",
         "0.0022",
         "-0.0024"
        ],
        [
         "SBGB",
         "3.0",
         "0.1154",
         "0.0003",
         "-0.0004"
        ],
        [
         "SOL-USD",
         "3.0",
         "0.1429",
         "-0.0033",
         "-0.0778"
        ],
        [
         "SPY",
         "4.0",
         "0.0388",
         "0.0016",
         "-0.004"
        ]
       ],
       "shape": {
        "columns": 4,
        "rows": 6
       }
      },
      "text/html": [
       "<div>\n",
       "<style scoped>\n",
       "    .dataframe tbody tr th:only-of-type {\n",
       "        vertical-align: middle;\n",
       "    }\n",
       "\n",
       "    .dataframe tbody tr th {\n",
       "        vertical-align: top;\n",
       "    }\n",
       "\n",
       "    .dataframe thead th {\n",
       "        text-align: right;\n",
       "    }\n",
       "</style>\n",
       "<table border=\"1\" class=\"dataframe\">\n",
       "  <thead>\n",
       "    <tr style=\"text-align: right;\">\n",
       "      <th></th>\n",
       "      <th>winsorised</th>\n",
       "      <th>winsorised_share</th>\n",
       "      <th>mean_shift</th>\n",
       "      <th>var_reduction</th>\n",
       "    </tr>\n",
       "  </thead>\n",
       "  <tbody>\n",
       "    <tr>\n",
       "      <th>BTC-USD</th>\n",
       "      <td>3.0</td>\n",
       "      <td>0.0682</td>\n",
       "      <td>0.0035</td>\n",
       "      <td>-0.0206</td>\n",
       "    </tr>\n",
       "    <tr>\n",
       "      <th>GC-F</th>\n",
       "      <td>3.0</td>\n",
       "      <td>0.0300</td>\n",
       "      <td>0.0032</td>\n",
       "      <td>-0.0031</td>\n",
       "    </tr>\n",
       "    <tr>\n",
       "      <th>IEF</th>\n",
       "      <td>3.0</td>\n",
       "      <td>0.0326</td>\n",
       "      <td>0.0022</td>\n",
       "      <td>-0.0024</td>\n",
       "    </tr>\n",
       "    <tr>\n",
       "      <th>SBGB</th>\n",
       "      <td>3.0</td>\n",
       "      <td>0.1154</td>\n",
       "      <td>0.0003</td>\n",
       "      <td>-0.0004</td>\n",
       "    </tr>\n",
       "    <tr>\n",
       "      <th>SOL-USD</th>\n",
       "      <td>3.0</td>\n",
       "      <td>0.1429</td>\n",
       "      <td>-0.0033</td>\n",
       "      <td>-0.0778</td>\n",
       "    </tr>\n",
       "    <tr>\n",
       "      <th>SPY</th>\n",
       "      <td>4.0</td>\n",
       "      <td>0.0388</td>\n",
       "      <td>0.0016</td>\n",
       "      <td>-0.0040</td>\n",
       "    </tr>\n",
       "  </tbody>\n",
       "</table>\n",
       "</div>"
      ],
      "text/plain": [
       "         winsorised  winsorised_share  mean_shift  var_reduction\n",
       "BTC-USD         3.0            0.0682      0.0035        -0.0206\n",
       "GC-F            3.0            0.0300      0.0032        -0.0031\n",
       "IEF             3.0            0.0326      0.0022        -0.0024\n",
       "SBGB            3.0            0.1154      0.0003        -0.0004\n",
       "SOL-USD         3.0            0.1429     -0.0033        -0.0778\n",
       "SPY             4.0            0.0388      0.0016        -0.0040"
      ]
     },
     "metadata": {},
     "output_type": "display_data"
    },
    {
     "data": {
      "image/png": "[encoded data removed]",
      "text/plain": [
       "<Figure size 1000x500 with 1 Axes>"
      ]
     },
     "metadata": {},
     "output_type": "display_data"
    }
   ],
   "source": [
    "winsor_summary = (\n",
    "    returns_long\n",
    "    .groupby('asset_id')[['r_base_log', 'r_base_log_w']]\n",
    "    .agg(['mean', 'var'])\n",
    ")\n",
    "winsor_summary.columns = ['_'.join(col).strip() for col in winsor_summary.columns.values]\n",
    "winsor_summary = winsor_summary.rename(columns={\n",
    "    'r_base_log_mean': 'before_mean',\n",
    "    'r_base_log_var': 'before_var',\n",
    "    'r_base_log_w_mean': 'after_mean',\n",
    "    'r_base_log_w_var': 'after_var',\n",
    "})\n",
    "\n",
    "winsorised_share = (winsor_summary['after_var'] < winsor_summary['before_var']).mean()\n",
    "\n",
    "meta = returns_long.drop_duplicates('asset_id').set_index('asset_id')[['asset_type', 'asset_ccy']]\n",
    "winsor_summary = winsor_summary.join(meta, how='left')\n",
    "\n",
    "summary_view = winsor_summary[['asset_type', 'asset_ccy', 'before_mean', 'after_mean', 'before_var', 'after_var']].copy()\n",
    "summary_view['mean_shift'] = summary_view['after_mean'] - summary_view['before_mean']\n",
    "summary_view['var_reduction'] = summary_view['before_var'] - summary_view['after_var']\n",
    "\n",
    "display(styled_table(summary_view, caption='Winsorisation impact (log returns, RUB)', precision=5))\n",
    "\n",
    "print(\n",
    "    \"Share of assets with reduced variance after winsorisation: \"\n",
    "    f\"{winsorised_share:.0%}.\"\n",
    ")\n",
    "\n",
    "melted = (\n",
    "    returns_long[['asset_id', 'r_base_log', 'r_base_log_w']]\n",
    "    .rename(columns={'r_base_log': 'before', 'r_base_log_w': 'after'})\n",
    "    .melt(id_vars='asset_id', value_vars=['before', 'after'], var_name='stage', value_name='log_return')\n",
    "    .dropna()\n",
    ")\n",
    "plt.figure(figsize=(10, 5))\n",
    "sns.boxplot(data=melted, x='asset_id', y='log_return', hue='stage')\n",
    "plt.title('Log returns before vs after winsorisation')\n",
    "plt.ylabel('Log return (RUB)')\n",
    "plt.tight_layout()\n",
    "plt.show()\n",
    "\n"
   ]
  },
  {
   "cell_type": "markdown",
   "id": "3ce2fbef",
   "metadata": {},
   "source": [
    "## EW \u03bc/\u03a3 And Correlation"
   ]
  },
  {
   "cell_type": "code",
   "execution_count": 7,
   "id": "a587fb42",
   "metadata": {
    "execution": {
     "iopub.execute_input": "2025-10-16T23:11:33.672677Z",
     "iopub.status.busy": "2025-10-16T23:11:33.672677Z",
     "iopub.status.idle": "2025-10-16T23:11:34.082800Z",
     "shell.execute_reply": "2025-10-16T23:11:34.082800Z"
    }
   },
   "outputs": [
    {
     "data": {
      "text/html": [
       "<style type=\"text/css\">\n",
       "</style>\n",
       "<table id=\"T_39601\">\n",
       "  <caption>EW means (quarterly log, RUB)</caption>\n",
       "  <thead>\n",
       "    <tr>\n",
       "      <th class=\"blank level0\" >&nbsp;</th>\n",
       "      <th id=\"T_39601_level0_col0\" class=\"col_heading level0 col0\" >mu_log_quarterly</th>\n",
       "    </tr>\n",
       "  </thead>\n",
       "  <tbody>\n",
       "    <tr>\n",
       "      <th id=\"T_39601_level0_row0\" class=\"row_heading level0 row0\" >BTC-USD</th>\n",
       "      <td id=\"T_39601_row0_col0\" class=\"data row0 col0\" >0.1313</td>\n",
       "    </tr>\n",
       "    <tr>\n",
       "      <th id=\"T_39601_level0_row1\" class=\"row_heading level0 row1\" >GC-F</th>\n",
       "      <td id=\"T_39601_row1_col0\" class=\"data row1 col0\" >0.0575</td>\n",
       "    </tr>\n",
       "    <tr>\n",
       "      <th id=\"T_39601_level0_row2\" class=\"row_heading level0 row2\" >IEF</th>\n",
       "      <td id=\"T_39601_row2_col0\" class=\"data row2 col0\" >0.0070</td>\n",
       "    </tr>\n",
       "    <tr>\n",
       "      <th id=\"T_39601_level0_row3\" class=\"row_heading level0 row3\" >SBGB</th>\n",
       "      <td id=\"T_39601_row3_col0\" class=\"data row3 col0\" >0.0137</td>\n",
       "    </tr>\n",
       "    <tr>\n",
       "      <th id=\"T_39601_level0_row4\" class=\"row_heading level0 row4\" >SOL-USD</th>\n",
       "      <td id=\"T_39601_row4_col0\" class=\"data row4 col0\" >0.1658</td>\n",
       "    </tr>\n",
       "    <tr>\n",
       "      <th id=\"T_39601_level0_row5\" class=\"row_heading level0 row5\" >SPY</th>\n",
       "      <td id=\"T_39601_row5_col0\" class=\"data row5 col0\" >0.0494</td>\n",
       "    </tr>\n",
       "  </tbody>\n",
       "</table>\n"
      ],
      "text/plain": [
       "<pandas.io.formats.style.Styler at 0x11bd4ea13d0>"
      ]
     },
     "metadata": {},
     "output_type": "display_data"
    },
    {
     "data": {
      "image/png": "[encoded data removed]",
      "text/plain": [
       "<Figure size 700x600 with 2 Axes>"
      ]
     },
     "metadata": {},
     "output_type": "display_data"
    },
    {
     "name": "stdout",
     "output_type": "stream",
     "text": [
      "{'smallest_eigenvalue': 0.00047948600931974603, 'condition_number': 1447.7840821058335}\n",
      "Ledoit-Wolf shrinkage covariance computed on the fully aligned history.\n"
     ]
    }
   ],
   "source": [
    "w_mean = exp_weights(q_matrix_log.index, HALF_LIFE_MEAN)\n",
    "w_cov = exp_weights(q_matrix_log.index, HALF_LIFE_COV)\n",
    "\n",
    "mu_q, S_q = weighted_mean_cov(q_matrix_log, w_mean)\n",
    "S_q_psd = nearest_psd(S_q)\n",
    "\n",
    "display(mu_q.to_frame(\"mu_log_quarterly\").style.format(\"{:.4f}\").set_caption(\"EW means (quarterly log, RUB)\"))\n",
    "plot_correlation_heatmap(S_q_psd, title=\"Correlation (PSD covariance) - Quarterly\")\n",
    "\n",
    "eigvals = np.linalg.eigvalsh(S_q_psd.to_numpy())\n",
    "condition_number = float(eigvals.max() / max(eigvals.min(), 1e-12))\n",
    "print({\"smallest_eigenvalue\": float(eigvals.min()), \"condition_number\": condition_number})\n",
    "\n",
    "ledoit = compute_ledoit_wolf(q_matrix_log)\n",
    "if ledoit is not None:\n",
    "    print(\"Ledoit-Wolf shrinkage covariance computed on the fully aligned history.\")"
   ]
  },
  {
   "cell_type": "markdown",
   "id": "3d195e4e",
   "metadata": {},
   "source": [
    "## Distribution Checks"
   ]
  },
  {
   "cell_type": "code",
   "execution_count": 8,
   "id": "e732bb15",
   "metadata": {
    "execution": {
     "iopub.execute_input": "2025-10-16T23:11:34.085456Z",
     "iopub.status.busy": "2025-10-16T23:11:34.085456Z",
     "iopub.status.idle": "2025-10-16T23:11:34.103091Z",
     "shell.execute_reply": "2025-10-16T23:11:34.103091Z"
    }
   },
   "outputs": [
    {
     "data": {
      "application/vnd.microsoft.datawrangler.viewer.v0+json": {
       "columns": [
        {
         "name": "asset_id",
         "rawType": "object",
         "type": "string"
        },
        {
         "name": "mean_quarter",
         "rawType": "float64",
         "type": "float"
        },
        {
         "name": "stdev_quarter",
         "rawType": "float64",
         "type": "float"
        },
        {
         "name": "jb_stat",
         "rawType": "float64",
         "type": "float"
        },
        {
         "name": "jb_p",
         "rawType": "float64",
         "type": "float"
        },
        {
         "name": "shapiro_stat",
         "rawType": "float64",
         "type": "float"
        },
        {
         "name": "shapiro_p",
         "rawType": "float64",
         "type": "float"
        }
       ],
       "ref": "d9e014c6-09cd-4180-95d7-2c99aee409c6",
       "rows": [
        [
         "BTC-USD",
         "0.1468",
         "0.4435",
         "3.04",
         "0.218",
         "0.94",
         "0.201"
        ],
        [
         "GC-F",
         "0.053",
         "0.1205",
         "0.15",
         "0.929",
         "0.983",
         "0.958"
        ],
        [
         "IEF",
         "0.007",
         "0.1221",
         "3.91",
         "0.142",
         "0.914",
         "0.057"
        ],
        [
         "SBGB",
         "0.0085",
         "0.0574",
         "0.67",
         "0.715",
         "0.969",
         "0.683"
        ],
        [
         "SOL-USD",
         "0.2537",
         "0.9156",
         "0.16",
         "0.924",
         "0.979",
         "0.905"
        ],
        [
         "SPY",
         "0.0604",
         "0.1526",
         "16.71",
         "0.0",
         "0.79",
         "0.0"
        ]
       ],
       "shape": {
        "columns": 6,
        "rows": 6
       }
      },
      "text/html": [
       "<div>\n",
       "<style scoped>\n",
       "    .dataframe tbody tr th:only-of-type {\n",
       "        vertical-align: middle;\n",
       "    }\n",
       "\n",
       "    .dataframe tbody tr th {\n",
       "        vertical-align: top;\n",
       "    }\n",
       "\n",
       "    .dataframe thead th {\n",
       "        text-align: right;\n",
       "    }\n",
       "</style>\n",
       "<table border=\"1\" class=\"dataframe\">\n",
       "  <thead>\n",
       "    <tr style=\"text-align: right;\">\n",
       "      <th></th>\n",
       "      <th>mean_quarter</th>\n",
       "      <th>stdev_quarter</th>\n",
       "      <th>jb_stat</th>\n",
       "      <th>jb_p</th>\n",
       "      <th>shapiro_stat</th>\n",
       "      <th>shapiro_p</th>\n",
       "    </tr>\n",
       "    <tr>\n",
       "      <th>asset_id</th>\n",
       "      <th></th>\n",
       "      <th></th>\n",
       "      <th></th>\n",
       "      <th></th>\n",
       "      <th></th>\n",
       "      <th></th>\n",
       "    </tr>\n",
       "  </thead>\n",
       "  <tbody>\n",
       "    <tr>\n",
       "      <th>BTC-USD</th>\n",
       "      <td>0.1468</td>\n",
       "      <td>0.4435</td>\n",
       "      <td>3.04</td>\n",
       "      <td>0.218</td>\n",
       "      <td>0.940</td>\n",
       "      <td>0.201</td>\n",
       "    </tr>\n",
       "    <tr>\n",
       "      <th>GC-F</th>\n",
       "      <td>0.0530</td>\n",
       "      <td>0.1205</td>\n",
       "      <td>0.15</td>\n",
       "      <td>0.929</td>\n",
       "      <td>0.983</td>\n",
       "      <td>0.958</td>\n",
       "    </tr>\n",
       "    <tr>\n",
       "      <th>IEF</th>\n",
       "      <td>0.0070</td>\n",
       "      <td>0.1221</td>\n",
       "      <td>3.91</td>\n",
       "      <td>0.142</td>\n",
       "      <td>0.914</td>\n",
       "      <td>0.057</td>\n",
       "    </tr>\n",
       "    <tr>\n",
       "      <th>SBGB</th>\n",
       "      <td>0.0085</td>\n",
       "      <td>0.0574</td>\n",
       "      <td>0.67</td>\n",
       "      <td>0.715</td>\n",
       "      <td>0.969</td>\n",
       "      <td>0.683</td>\n",
       "    </tr>\n",
       "    <tr>\n",
       "      <th>SOL-USD</th>\n",
       "      <td>0.2537</td>\n",
       "      <td>0.9156</td>\n",
       "      <td>0.16</td>\n",
       "      <td>0.924</td>\n",
       "      <td>0.979</td>\n",
       "      <td>0.905</td>\n",
       "    </tr>\n",
       "    <tr>\n",
       "      <th>SPY</th>\n",
       "      <td>0.0604</td>\n",
       "      <td>0.1526</td>\n",
       "      <td>16.71</td>\n",
       "      <td>0.000</td>\n",
       "      <td>0.790</td>\n",
       "      <td>0.000</td>\n",
       "    </tr>\n",
       "  </tbody>\n",
       "</table>\n",
       "</div>"
      ],
      "text/plain": [
       "          mean_quarter  stdev_quarter  jb_stat   jb_p  shapiro_stat  shapiro_p\n",
       "asset_id                                                                      \n",
       "BTC-USD         0.1468         0.4435     3.04  0.218         0.940      0.201\n",
       "GC-F            0.0530         0.1205     0.15  0.929         0.983      0.958\n",
       "IEF             0.0070         0.1221     3.91  0.142         0.914      0.057\n",
       "SBGB            0.0085         0.0574     0.67  0.715         0.969      0.683\n",
       "SOL-USD         0.2537         0.9156     0.16  0.924         0.979      0.905\n",
       "SPY             0.0604         0.1526    16.71  0.000         0.790      0.000"
      ]
     },
     "metadata": {},
     "output_type": "display_data"
    }
   ],
   "source": [
    "tests = []\n",
    "for asset in q_matrix_log.columns:\n",
    "    series = q_matrix_log[asset].dropna()\n",
    "    if len(series) < 8:\n",
    "        continue\n",
    "    jb_stat, jb_p = jb_test(series)\n",
    "    sh_stat, sh_p = shapiro_test(series)\n",
    "    tests.append({\n",
    "        'asset_id': asset,\n",
    "        'mean_quarter': series.mean(),\n",
    "        'stdev_quarter': series.std(ddof=1),\n",
    "        'skew': series.skew(),\n",
    "        'excess_kurtosis': series.kurtosis(),\n",
    "        'acf_lag1': series.autocorr(lag=1),\n",
    "        'jb_stat': jb_stat,\n",
    "        'jb_p': jb_p,\n",
    "        'shapiro_stat': sh_stat,\n",
    "        'shapiro_p': sh_p,\n",
    "    })\n",
    "\n",
    "tests_df = pd.DataFrame(tests).set_index('asset_id')\n",
    "\n",
    "def interpret_distribution(row: pd.Series) -> str:\n",
    "    remarks = []\n",
    "    if row['jb_p'] < 0.05 or row['shapiro_p'] < 0.05:\n",
    "        remarks.append('Reject normality \u2192 plan for fat-tail shocks.')\n",
    "    else:\n",
    "        remarks.append('Normality not rejected at 5% level.')\n",
    "\n",
    "    skew_abs = abs(row['skew'])\n",
    "    if skew_abs >= 1:\n",
    "        remarks.append(f\"Heavy {'positive' if row['skew'] > 0 else 'negative'} skew.\")\n",
    "    elif skew_abs >= 0.5:\n",
    "        remarks.append(f\"Moderate {'positive' if row['skew'] > 0 else 'negative'} skew.\")\n",
    "\n",
    "    if row['excess_kurtosis'] > 1:\n",
    "        remarks.append('Leptokurtic tails \u2192 consider drawdown overlays.')\n",
    "\n",
    "    if abs(row['acf_lag1']) > 0.2:\n",
    "        remarks.append('Lag-1 autocorr above 0.2 signals serial dependence.')\n",
    "    else:\n",
    "        remarks.append('Lag-1 autocorr muted (<0.2).')\n",
    "\n",
    "    return ' '.join(remarks)\n",
    "\n",
    "if not tests_df.empty:\n",
    "    tests_df['comment'] = tests_df.apply(interpret_distribution, axis=1)\n",
    "    display(styled_table(\n",
    "        tests_df[['mean_quarter', 'stdev_quarter', 'skew', 'excess_kurtosis', 'acf_lag1', 'jb_p', 'shapiro_p', 'comment']],\n",
    "        caption='Quarterly log return diagnostics',\n",
    "        precision=4,\n",
    "    ))\n",
    "else:\n",
    "    print('Not enough observations to run distribution diagnostics.')\n",
    "\n"
   ]
  },
  {
   "cell_type": "markdown",
   "id": "a348520b",
   "metadata": {},
   "source": [
    "## Dynamics And Autocorrelation"
   ]
  },
  {
   "cell_type": "code",
   "execution_count": 9,
   "id": "fcb564dc",
   "metadata": {
    "execution": {
     "iopub.execute_input": "2025-10-16T23:11:34.105156Z",
     "iopub.status.busy": "2025-10-16T23:11:34.105156Z",
     "iopub.status.idle": "2025-10-16T23:11:35.071790Z",
     "shell.execute_reply": "2025-10-16T23:11:35.071790Z"
    }
   },
   "outputs": [
    {
     "data": {
      "image/png": "[encoded data removed]",
      "text/plain": [
       "<Figure size 1200x600 with 6 Axes>"
      ]
     },
     "metadata": {},
     "output_type": "display_data"
    },
    {
     "data": {
      "image/png": "[encoded data removed]",
      "text/plain": [
       "<Figure size 900x400 with 1 Axes>"
      ]
     },
     "metadata": {},
     "output_type": "display_data"
    },
    {
     "data": {
      "image/png": "[encoded data removed]",
      "text/plain": [
       "<Figure size 900x400 with 1 Axes>"
      ]
     },
     "metadata": {},
     "output_type": "display_data"
    },
    {
     "data": {
      "image/png": "[encoded data removed]",
      "text/plain": [
       "<Figure size 1200x300 with 3 Axes>"
      ]
     },
     "metadata": {},
     "output_type": "display_data"
    },
    {
     "data": {
      "image/png": "[encoded data removed]",
      "text/plain": [
       "<Figure size 900x400 with 1 Axes>"
      ]
     },
     "metadata": {},
     "output_type": "display_data"
    },
    {
     "data": {
      "image/png": "[encoded data removed]",
      "text/plain": [
       "<Figure size 900x400 with 1 Axes>"
      ]
     },
     "metadata": {},
     "output_type": "display_data"
    },
    {
     "data": {
      "application/vnd.microsoft.datawrangler.viewer.v0+json": {
       "columns": [
        {
         "name": "asset_id",
         "rawType": "object",
         "type": "string"
        },
        {
         "name": "4",
         "rawType": "float64",
         "type": "float"
        },
        {
         "name": "8",
         "rawType": "float64",
         "type": "float"
        }
       ],
       "ref": "4303949d-5086-4c96-8949-95a2df5c83b0",
       "rows": [
        [
         "BTC-USD",
         "0.9018614846264033",
         "0.6256530002592862"
        ],
        [
         "GC-F",
         "0.4828014435818796",
         "0.7743143809026826"
        ],
        [
         "IEF",
         "0.6777333425097865",
         "0.8608049125637971"
        ],
        [
         "SBGB",
         "0.41573769581573916",
         "0.1127431043651777"
        ],
        [
         "SOL-USD",
         "0.46407526165516466",
         "0.08788356148231222"
        ],
        [
         "SPY",
         "0.5229456268617927",
         "0.707041211294287"
        ]
       ],
       "shape": {
        "columns": 2,
        "rows": 6
       }
      },
      "text/html": [
       "<div>\n",
       "<style scoped>\n",
       "    .dataframe tbody tr th:only-of-type {\n",
       "        vertical-align: middle;\n",
       "    }\n",
       "\n",
       "    .dataframe tbody tr th {\n",
       "        vertical-align: top;\n",
       "    }\n",
       "\n",
       "    .dataframe thead th {\n",
       "        text-align: right;\n",
       "    }\n",
       "</style>\n",
       "<table border=\"1\" class=\"dataframe\">\n",
       "  <thead>\n",
       "    <tr style=\"text-align: right;\">\n",
       "      <th>lags</th>\n",
       "      <th>4</th>\n",
       "      <th>8</th>\n",
       "    </tr>\n",
       "    <tr>\n",
       "      <th>asset_id</th>\n",
       "      <th></th>\n",
       "      <th></th>\n",
       "    </tr>\n",
       "  </thead>\n",
       "  <tbody>\n",
       "    <tr>\n",
       "      <th>BTC-USD</th>\n",
       "      <td>0.901861</td>\n",
       "      <td>0.625653</td>\n",
       "    </tr>\n",
       "    <tr>\n",
       "      <th>GC-F</th>\n",
       "      <td>0.482801</td>\n",
       "      <td>0.774314</td>\n",
       "    </tr>\n",
       "    <tr>\n",
       "      <th>IEF</th>\n",
       "      <td>0.677733</td>\n",
       "      <td>0.860805</td>\n",
       "    </tr>\n",
       "    <tr>\n",
       "      <th>SBGB</th>\n",
       "      <td>0.415738</td>\n",
       "      <td>0.112743</td>\n",
       "    </tr>\n",
       "    <tr>\n",
       "      <th>SOL-USD</th>\n",
       "      <td>0.464075</td>\n",
       "      <td>0.087884</td>\n",
       "    </tr>\n",
       "    <tr>\n",
       "      <th>SPY</th>\n",
       "      <td>0.522946</td>\n",
       "      <td>0.707041</td>\n",
       "    </tr>\n",
       "  </tbody>\n",
       "</table>\n",
       "</div>"
      ],
      "text/plain": [
       "lags             4         8\n",
       "asset_id                    \n",
       "BTC-USD   0.901861  0.625653\n",
       "GC-F      0.482801  0.774314\n",
       "IEF       0.677733  0.860805\n",
       "SBGB      0.415738  0.112743\n",
       "SOL-USD   0.464075  0.087884\n",
       "SPY       0.522946  0.707041"
      ]
     },
     "metadata": {},
     "output_type": "display_data"
    }
   ],
   "source": [
    "crypto_cols, noncrypto_cols = split_crypto_noncrypto(list(q_matrix_log.columns))\n",
    "\n",
    "if noncrypto_cols:\n",
    "    plot_acf_grid(q_matrix_log[noncrypto_cols], max_lags=12, title='ACF - Non-crypto (quarterly)')\n",
    "    plot_rolling_stats(q_matrix_log[noncrypto_cols], window=8, title='Rolling stdev - Non-crypto (8 quarters)')\n",
    "    plot_drawdowns(q_matrix_log[noncrypto_cols], title='Drawdowns - Non-crypto (log)')\n",
    "\n",
    "if crypto_cols:\n",
    "    plot_acf_grid(q_matrix_log[crypto_cols], max_lags=12, title='ACF - Crypto (quarterly)')\n",
    "    plot_rolling_stats(q_matrix_log[crypto_cols], window=8, title='Rolling stdev - Crypto (8 quarters)')\n",
    "    plot_drawdowns(q_matrix_log[crypto_cols], title='Drawdowns - Crypto (log)')\n",
    "\n",
    "lb_rows = []\n",
    "for asset in q_matrix_log.columns:\n",
    "    lb = ljung_box(q_matrix_log[asset], lags=[4, 8])\n",
    "    lb['asset_id'] = asset\n",
    "    lb_rows.append(lb)\n",
    "\n",
    "lb_table = (\n",
    "    pd.concat(lb_rows)\n",
    "    .reset_index()\n",
    "    .rename(columns={'index': 'lags', 'lb_stat': 'stat', 'lb_pvalue': 'pvalue'})\n",
    ")\n",
    "\n",
    "pivot_lb = lb_table.pivot_table(index='asset_id', columns='lags', values='pvalue')\n",
    "display(styled_table(pivot_lb.sort_index(axis=1), caption='Ljung-Box p-values (quarterly log returns)', precision=3))\n",
    "\n"
   ]
  },
  {
   "cell_type": "markdown",
   "id": "11a07cd2",
   "metadata": {},
   "source": [
    "## FX Decomposition"
   ]
  },
  {
   "cell_type": "code",
   "execution_count": 10,
   "id": "9a55a6f5",
   "metadata": {
    "execution": {
     "iopub.execute_input": "2025-10-16T23:11:35.074229Z",
     "iopub.status.busy": "2025-10-16T23:11:35.074229Z",
     "iopub.status.idle": "2025-10-16T23:11:35.086660Z",
     "shell.execute_reply": "2025-10-16T23:11:35.086660Z"
    }
   },
   "outputs": [
    {
     "name": "stderr",
     "output_type": "stream",
     "text": [
      "C:\\Users\\koles\\AppData\\Local\\Packages\\PythonSoftwareFoundation.Python.3.12_qbz5n2kfra8p0\\LocalCache\\local-packages\\Python312\\site-packages\\numpy\\lib\\_function_base_impl.py:3065: RuntimeWarning: invalid value encountered in divide\n",
      "  c /= stddev[:, None]\n",
      "C:\\Users\\koles\\AppData\\Local\\Packages\\PythonSoftwareFoundation.Python.3.12_qbz5n2kfra8p0\\LocalCache\\local-packages\\Python312\\site-packages\\numpy\\lib\\_function_base_impl.py:3066: RuntimeWarning: invalid value encountered in divide\n",
      "  c /= stddev[None, :]\n"
     ]
    },
    {
     "data": {
      "application/vnd.microsoft.datawrangler.viewer.v0+json": {
       "columns": [
        {
         "name": "asset_id",
         "rawType": "object",
         "type": "string"
        },
        {
         "name": "corr_local_fx",
         "rawType": "float64",
         "type": "float"
        },
        {
         "name": "fx_var_share",
         "rawType": "float64",
         "type": "float"
        },
        {
         "name": "fx_vol_quarter",
         "rawType": "float64",
         "type": "float"
        }
       ],
       "ref": "c74bbceb-cc33-4204-bb33-b2a6bbfce8c4",
       "rows": [
        [
         "GC-F",
         "-0.028",
         "0.858",
         "0.157"
        ],
        [
         "BTC-USD",
         "0.364",
         "0.107",
         "0.157"
        ],
        [
         "SOL-USD",
         "0.222",
         "0.027",
         "0.157"
        ],
        [
         "SPY",
         "0.366",
         "0.62",
         "0.157"
        ],
        [
         "IEF",
         "-0.166",
         "1.023",
         "0.157"
        ],
        [
         "SBGB",
         null,
         "0.0",
         "0.0"
        ]
       ],
       "shape": {
        "columns": 3,
        "rows": 6
       }
      },
      "text/html": [
       "<div>\n",
       "<style scoped>\n",
       "    .dataframe tbody tr th:only-of-type {\n",
       "        vertical-align: middle;\n",
       "    }\n",
       "\n",
       "    .dataframe tbody tr th {\n",
       "        vertical-align: top;\n",
       "    }\n",
       "\n",
       "    .dataframe thead th {\n",
       "        text-align: right;\n",
       "    }\n",
       "</style>\n",
       "<table border=\"1\" class=\"dataframe\">\n",
       "  <thead>\n",
       "    <tr style=\"text-align: right;\">\n",
       "      <th></th>\n",
       "      <th>corr_local_fx</th>\n",
       "      <th>fx_var_share</th>\n",
       "      <th>fx_vol_quarter</th>\n",
       "    </tr>\n",
       "    <tr>\n",
       "      <th>asset_id</th>\n",
       "      <th></th>\n",
       "      <th></th>\n",
       "      <th></th>\n",
       "    </tr>\n",
       "  </thead>\n",
       "  <tbody>\n",
       "    <tr>\n",
       "      <th>GC-F</th>\n",
       "      <td>-0.028</td>\n",
       "      <td>0.858</td>\n",
       "      <td>0.157</td>\n",
       "    </tr>\n",
       "    <tr>\n",
       "      <th>BTC-USD</th>\n",
       "      <td>0.364</td>\n",
       "      <td>0.107</td>\n",
       "      <td>0.157</td>\n",
       "    </tr>\n",
       "    <tr>\n",
       "      <th>SOL-USD</th>\n",
       "      <td>0.222</td>\n",
       "      <td>0.027</td>\n",
       "      <td>0.157</td>\n",
       "    </tr>\n",
       "    <tr>\n",
       "      <th>SPY</th>\n",
       "      <td>0.366</td>\n",
       "      <td>0.620</td>\n",
       "      <td>0.157</td>\n",
       "    </tr>\n",
       "    <tr>\n",
       "      <th>IEF</th>\n",
       "      <td>-0.166</td>\n",
       "      <td>1.023</td>\n",
       "      <td>0.157</td>\n",
       "    </tr>\n",
       "    <tr>\n",
       "      <th>SBGB</th>\n",
       "      <td>NaN</td>\n",
       "      <td>0.000</td>\n",
       "      <td>0.000</td>\n",
       "    </tr>\n",
       "  </tbody>\n",
       "</table>\n",
       "</div>"
      ],
      "text/plain": [
       "          corr_local_fx  fx_var_share  fx_vol_quarter\n",
       "asset_id                                             \n",
       "GC-F             -0.028         0.858           0.157\n",
       "BTC-USD           0.364         0.107           0.157\n",
       "SOL-USD           0.222         0.027           0.157\n",
       "SPY               0.366         0.620           0.157\n",
       "IEF              -0.166         1.023           0.157\n",
       "SBGB                NaN         0.000           0.000"
      ]
     },
     "metadata": {},
     "output_type": "display_data"
    }
   ],
   "source": [
    "fx_breakdown = []\n",
    "for asset in FOCUS_TICKERS:\n",
    "    subset = returns_aligned[returns_aligned['asset_id'] == asset].dropna(subset=['r_local_log', 'r_fx_log', 'r_base_log'])\n",
    "    if len(subset) < 4:\n",
    "        continue\n",
    "    var_base = subset['r_base_log'].var(ddof=1)\n",
    "    var_local = subset['r_local_log'].var(ddof=1)\n",
    "    var_fx = subset['r_fx_log'].var(ddof=1)\n",
    "    cov_local_fx = subset['r_local_log'].cov(subset['r_fx_log'])\n",
    "    formula = var_local + var_fx + 2 * cov_local_fx\n",
    "    fx_breakdown.append({\n",
    "        'asset_id': asset,\n",
    "        'var_base': var_base,\n",
    "        'var_local': var_local,\n",
    "        'var_fx': var_fx,\n",
    "        '2cov_local_fx': 2 * cov_local_fx,\n",
    "        'formula_minus_base': formula - var_base,\n",
    "        'fx_var_share': (var_fx / var_base) if pd.notna(var_base) and var_base != 0 else np.nan,\n",
    "    })\n",
    "\n",
    "fx_breakdown_df = pd.DataFrame(fx_breakdown).set_index('asset_id')\n",
    "display(styled_table(\n",
    "    fx_breakdown_df,\n",
    "    caption='Variance decomposition: Var(base) = Var(local) + Var(FX) + 2\u00b7Cov(local, FX)',\n",
    "    precision=5,\n",
    "))\n",
    "\n",
    "print(\n",
    "    'Variance equality is shown above; small residuals in formula_minus_base are numerical rounding artefacts.'\n",
    ")\n",
    "print(\n",
    "    'fx_var_share highlights how much of the base-currency variance originates from the currency leg.'\n",
    ")\n",
    "\n"
   ]
  },
  {
   "cell_type": "markdown",
   "id": "ac61cadf",
   "metadata": {},
   "source": [
    "## Takeaways\n",
    "\n",
    "- Quarterly alignment happens upstream in helpers, so the notebook stays narrative-first.\n",
    "- USD legs still carry the bulk of variance; domestic SBGB anchors the panel.\n",
    "- FX variance decomposition clarifies how the currency leg feeds base-risk, while diagnostics flag where fat tails and autocorr live.\n",
    "\n"
   ]
  }
 ],
 "metadata": {
  "kernelspec": {
   "display_name": "Python 3",
   "language": "python",
   "name": "python3"
  },
  "language_info": {
   "codemirror_mode": {
    "name": "ipython",
    "version": 3
   },
   "file_extension": ".py",
   "mimetype": "text/x-python",
   "name": "python",
   "nbconvert_exporter": "python",
   "pygments_lexer": "ipython3",
   "version": "3.12.10"
  }
 },
 "nbformat": 4,
 "nbformat_minor": 5
}